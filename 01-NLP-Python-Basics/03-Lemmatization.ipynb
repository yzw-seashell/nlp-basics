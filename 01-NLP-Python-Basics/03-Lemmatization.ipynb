{
 "cells": [
  {
   "cell_type": "markdown",
   "metadata": {
    "application/vnd.databricks.v1+cell": {
     "cellMetadata": {},
     "inputWidgets": {},
     "nuid": "8e6251b6-ef72-44fe-8135-3e98661a6716",
     "showTitle": false,
     "title": ""
    },
    "collapsed": true
   },
   "source": [
    "___\n",
    "\n",
    "<a href='http://www.pieriandata.com'> <img src='../Pierian_Data_Logo.png' /></a>\n",
    "___"
   ]
  },
  {
   "cell_type": "markdown",
   "metadata": {
    "application/vnd.databricks.v1+cell": {
     "cellMetadata": {},
     "inputWidgets": {},
     "nuid": "c1df13ab-c69f-4b53-9c67-ea6d2e46501d",
     "showTitle": false,
     "title": ""
    }
   },
   "source": [
    "# Lemmatization\n",
    "In contrast to stemming, lemmatization looks beyond word reduction, and considers a language's full vocabulary to apply a *morphological analysis* to words. The lemma of 'was' is 'be' and the lemma of 'mice' is 'mouse'. Further, the lemma of 'meeting' might be 'meet' or 'meeting' depending on its use in a sentence."
   ]
  },
  {
   "cell_type": "code",
   "execution_count": 0,
   "metadata": {
    "application/vnd.databricks.v1+cell": {
     "cellMetadata": {},
     "inputWidgets": {},
     "nuid": "eb480af0-5841-43f1-972c-89392ee2fefe",
     "showTitle": false,
     "title": ""
    }
   },
   "outputs": [
    {
     "data": {
      "text/html": [
       "<style scoped>\n",
       "  .ansiout {\n",
       "    display: block;\n",
       "    unicode-bidi: embed;\n",
       "    white-space: pre-wrap;\n",
       "    word-wrap: break-word;\n",
       "    word-break: break-all;\n",
       "    font-family: \"Source Code Pro\", \"Menlo\", monospace;;\n",
       "    font-size: 13px;\n",
       "    color: #555;\n",
       "    margin-left: 4px;\n",
       "    line-height: 19px;\n",
       "  }\n",
       "</style>\n",
       "<div class=\"ansiout\">Python interpreter will be restarted.\n",
       "Collecting spacy\n",
       "  Using cached spacy-3.5.0-cp38-cp38-manylinux_2_17_x86_64.manylinux2014_x86_64.whl (6.7 MB)\n",
       "Collecting tqdm&lt;5.0.0,&gt;=4.38.0\n",
       "  Using cached tqdm-4.64.1-py2.py3-none-any.whl (78 kB)\n",
       "Collecting pydantic!=1.8,!=1.8.1,&lt;1.11.0,&gt;=1.7.4\n",
       "  Using cached pydantic-1.10.5-cp38-cp38-manylinux_2_17_x86_64.manylinux2014_x86_64.whl (3.2 MB)\n",
       "Collecting spacy-loggers&lt;2.0.0,&gt;=1.0.0\n",
       "  Using cached spacy_loggers-1.0.4-py3-none-any.whl (11 kB)\n",
       "Collecting wasabi&lt;1.2.0,&gt;=0.9.1\n",
       "  Using cached wasabi-1.1.1-py3-none-any.whl (27 kB)\n",
       "Collecting preshed&lt;3.1.0,&gt;=3.0.2\n",
       "  Using cached preshed-3.0.8-cp38-cp38-manylinux_2_5_x86_64.manylinux1_x86_64.manylinux_2_17_x86_64.manylinux2014_x86_64.whl (130 kB)\n",
       "Requirement already satisfied: requests&lt;3.0.0,&gt;=2.13.0 in /databricks/python3/lib/python3.8/site-packages (from spacy) (2.25.1)\n",
       "Collecting thinc&lt;8.2.0,&gt;=8.1.0\n",
       "  Using cached thinc-8.1.7-cp38-cp38-manylinux_2_17_x86_64.manylinux2014_x86_64.whl (828 kB)\n",
       "Collecting typer&lt;0.8.0,&gt;=0.3.0\n",
       "  Using cached typer-0.7.0-py3-none-any.whl (38 kB)\n",
       "Collecting spacy-legacy&lt;3.1.0,&gt;=3.0.11\n",
       "  Using cached spacy_legacy-3.0.12-py2.py3-none-any.whl (29 kB)\n",
       "Requirement already satisfied: numpy&gt;=1.15.0 in /databricks/python3/lib/python3.8/site-packages (from spacy) (1.20.1)\n",
       "Requirement already satisfied: setuptools in /usr/local/lib/python3.8/dist-packages (from spacy) (52.0.0)\n",
       "Collecting catalogue&lt;2.1.0,&gt;=2.0.6\n",
       "  Using cached catalogue-2.0.8-py3-none-any.whl (17 kB)\n",
       "Collecting murmurhash&lt;1.1.0,&gt;=0.28.0\n",
       "  Using cached murmurhash-1.0.9-cp38-cp38-manylinux_2_5_x86_64.manylinux1_x86_64.manylinux_2_17_x86_64.manylinux2014_x86_64.whl (21 kB)\n",
       "Collecting srsly&lt;3.0.0,&gt;=2.4.3\n",
       "  Using cached srsly-2.4.5-cp38-cp38-manylinux_2_17_x86_64.manylinux2014_x86_64.whl (492 kB)\n",
       "Collecting smart-open&lt;7.0.0,&gt;=5.2.1\n",
       "  Using cached smart_open-6.3.0-py3-none-any.whl (56 kB)\n",
       "Collecting pathy&gt;=0.10.0\n",
       "  Using cached pathy-0.10.1-py3-none-any.whl (48 kB)\n",
       "Requirement already satisfied: jinja2 in /databricks/python3/lib/python3.8/site-packages (from spacy) (2.11.3)\n",
       "Requirement already satisfied: packaging&gt;=20.0 in /databricks/python3/lib/python3.8/site-packages (from spacy) (20.9)\n",
       "Collecting cymem&lt;2.1.0,&gt;=2.0.2\n",
       "  Using cached cymem-2.0.7-cp38-cp38-manylinux_2_17_x86_64.manylinux2014_x86_64.whl (36 kB)\n",
       "Collecting langcodes&lt;4.0.0,&gt;=3.2.0\n",
       "  Using cached langcodes-3.3.0-py3-none-any.whl (181 kB)\n",
       "Requirement already satisfied: pyparsing&gt;=2.0.2 in /databricks/python3/lib/python3.8/site-packages (from packaging&gt;=20.0-&gt;spacy) (2.4.7)\n",
       "Collecting typing-extensions&gt;=4.2.0\n",
       "  Using cached typing_extensions-4.5.0-py3-none-any.whl (27 kB)\n",
       "Requirement already satisfied: urllib3&lt;1.27,&gt;=1.21.1 in /databricks/python3/lib/python3.8/site-packages (from requests&lt;3.0.0,&gt;=2.13.0-&gt;spacy) (1.25.11)\n",
       "Requirement already satisfied: certifi&gt;=2017.4.17 in /databricks/python3/lib/python3.8/site-packages (from requests&lt;3.0.0,&gt;=2.13.0-&gt;spacy) (2020.12.5)\n",
       "Requirement already satisfied: chardet&lt;5,&gt;=3.0.2 in /databricks/python3/lib/python3.8/site-packages (from requests&lt;3.0.0,&gt;=2.13.0-&gt;spacy) (4.0.0)\n",
       "Requirement already satisfied: idna&lt;3,&gt;=2.5 in /databricks/python3/lib/python3.8/site-packages (from requests&lt;3.0.0,&gt;=2.13.0-&gt;spacy) (2.10)\n",
       "Collecting blis&lt;0.8.0,&gt;=0.7.8\n",
       "  Using cached blis-0.7.9-cp38-cp38-manylinux_2_17_x86_64.manylinux2014_x86_64.whl (10.2 MB)\n",
       "Collecting confection&lt;1.0.0,&gt;=0.0.1\n",
       "  Using cached confection-0.0.4-py3-none-any.whl (32 kB)\n",
       "Collecting click&lt;9.0.0,&gt;=7.1.1\n",
       "  Using cached click-8.1.3-py3-none-any.whl (96 kB)\n",
       "Requirement already satisfied: MarkupSafe&gt;=0.23 in /databricks/python3/lib/python3.8/site-packages (from jinja2-&gt;spacy) (2.0.1)\n",
       "Installing collected packages: typing-extensions, catalogue, srsly, pydantic, murmurhash, cymem, click, wasabi, typer, smart-open, preshed, confection, blis, tqdm, thinc, spacy-loggers, spacy-legacy, pathy, langcodes, spacy\n",
       "Successfully installed blis-0.7.9 catalogue-2.0.8 click-8.1.3 confection-0.0.4 cymem-2.0.7 langcodes-3.3.0 murmurhash-1.0.9 pathy-0.10.1 preshed-3.0.8 pydantic-1.10.5 smart-open-6.3.0 spacy-3.5.0 spacy-legacy-3.0.12 spacy-loggers-1.0.4 srsly-2.4.5 thinc-8.1.7 tqdm-4.64.1 typer-0.7.0 typing-extensions-4.5.0 wasabi-1.1.1\n",
       "Python interpreter will be restarted.\n",
       "</div>"
      ]
     },
     "metadata": {
      "application/vnd.databricks.v1+output": {
       "addedWidgets": {},
       "arguments": {},
       "data": "<div class=\"ansiout\">Python interpreter will be restarted.\nCollecting spacy\n  Using cached spacy-3.5.0-cp38-cp38-manylinux_2_17_x86_64.manylinux2014_x86_64.whl (6.7 MB)\nCollecting tqdm&lt;5.0.0,&gt;=4.38.0\n  Using cached tqdm-4.64.1-py2.py3-none-any.whl (78 kB)\nCollecting pydantic!=1.8,!=1.8.1,&lt;1.11.0,&gt;=1.7.4\n  Using cached pydantic-1.10.5-cp38-cp38-manylinux_2_17_x86_64.manylinux2014_x86_64.whl (3.2 MB)\nCollecting spacy-loggers&lt;2.0.0,&gt;=1.0.0\n  Using cached spacy_loggers-1.0.4-py3-none-any.whl (11 kB)\nCollecting wasabi&lt;1.2.0,&gt;=0.9.1\n  Using cached wasabi-1.1.1-py3-none-any.whl (27 kB)\nCollecting preshed&lt;3.1.0,&gt;=3.0.2\n  Using cached preshed-3.0.8-cp38-cp38-manylinux_2_5_x86_64.manylinux1_x86_64.manylinux_2_17_x86_64.manylinux2014_x86_64.whl (130 kB)\nRequirement already satisfied: requests&lt;3.0.0,&gt;=2.13.0 in /databricks/python3/lib/python3.8/site-packages (from spacy) (2.25.1)\nCollecting thinc&lt;8.2.0,&gt;=8.1.0\n  Using cached thinc-8.1.7-cp38-cp38-manylinux_2_17_x86_64.manylinux2014_x86_64.whl (828 kB)\nCollecting typer&lt;0.8.0,&gt;=0.3.0\n  Using cached typer-0.7.0-py3-none-any.whl (38 kB)\nCollecting spacy-legacy&lt;3.1.0,&gt;=3.0.11\n  Using cached spacy_legacy-3.0.12-py2.py3-none-any.whl (29 kB)\nRequirement already satisfied: numpy&gt;=1.15.0 in /databricks/python3/lib/python3.8/site-packages (from spacy) (1.20.1)\nRequirement already satisfied: setuptools in /usr/local/lib/python3.8/dist-packages (from spacy) (52.0.0)\nCollecting catalogue&lt;2.1.0,&gt;=2.0.6\n  Using cached catalogue-2.0.8-py3-none-any.whl (17 kB)\nCollecting murmurhash&lt;1.1.0,&gt;=0.28.0\n  Using cached murmurhash-1.0.9-cp38-cp38-manylinux_2_5_x86_64.manylinux1_x86_64.manylinux_2_17_x86_64.manylinux2014_x86_64.whl (21 kB)\nCollecting srsly&lt;3.0.0,&gt;=2.4.3\n  Using cached srsly-2.4.5-cp38-cp38-manylinux_2_17_x86_64.manylinux2014_x86_64.whl (492 kB)\nCollecting smart-open&lt;7.0.0,&gt;=5.2.1\n  Using cached smart_open-6.3.0-py3-none-any.whl (56 kB)\nCollecting pathy&gt;=0.10.0\n  Using cached pathy-0.10.1-py3-none-any.whl (48 kB)\nRequirement already satisfied: jinja2 in /databricks/python3/lib/python3.8/site-packages (from spacy) (2.11.3)\nRequirement already satisfied: packaging&gt;=20.0 in /databricks/python3/lib/python3.8/site-packages (from spacy) (20.9)\nCollecting cymem&lt;2.1.0,&gt;=2.0.2\n  Using cached cymem-2.0.7-cp38-cp38-manylinux_2_17_x86_64.manylinux2014_x86_64.whl (36 kB)\nCollecting langcodes&lt;4.0.0,&gt;=3.2.0\n  Using cached langcodes-3.3.0-py3-none-any.whl (181 kB)\nRequirement already satisfied: pyparsing&gt;=2.0.2 in /databricks/python3/lib/python3.8/site-packages (from packaging&gt;=20.0-&gt;spacy) (2.4.7)\nCollecting typing-extensions&gt;=4.2.0\n  Using cached typing_extensions-4.5.0-py3-none-any.whl (27 kB)\nRequirement already satisfied: urllib3&lt;1.27,&gt;=1.21.1 in /databricks/python3/lib/python3.8/site-packages (from requests&lt;3.0.0,&gt;=2.13.0-&gt;spacy) (1.25.11)\nRequirement already satisfied: certifi&gt;=2017.4.17 in /databricks/python3/lib/python3.8/site-packages (from requests&lt;3.0.0,&gt;=2.13.0-&gt;spacy) (2020.12.5)\nRequirement already satisfied: chardet&lt;5,&gt;=3.0.2 in /databricks/python3/lib/python3.8/site-packages (from requests&lt;3.0.0,&gt;=2.13.0-&gt;spacy) (4.0.0)\nRequirement already satisfied: idna&lt;3,&gt;=2.5 in /databricks/python3/lib/python3.8/site-packages (from requests&lt;3.0.0,&gt;=2.13.0-&gt;spacy) (2.10)\nCollecting blis&lt;0.8.0,&gt;=0.7.8\n  Using cached blis-0.7.9-cp38-cp38-manylinux_2_17_x86_64.manylinux2014_x86_64.whl (10.2 MB)\nCollecting confection&lt;1.0.0,&gt;=0.0.1\n  Using cached confection-0.0.4-py3-none-any.whl (32 kB)\nCollecting click&lt;9.0.0,&gt;=7.1.1\n  Using cached click-8.1.3-py3-none-any.whl (96 kB)\nRequirement already satisfied: MarkupSafe&gt;=0.23 in /databricks/python3/lib/python3.8/site-packages (from jinja2-&gt;spacy) (2.0.1)\nInstalling collected packages: typing-extensions, catalogue, srsly, pydantic, murmurhash, cymem, click, wasabi, typer, smart-open, preshed, confection, blis, tqdm, thinc, spacy-loggers, spacy-legacy, pathy, langcodes, spacy\nSuccessfully installed blis-0.7.9 catalogue-2.0.8 click-8.1.3 confection-0.0.4 cymem-2.0.7 langcodes-3.3.0 murmurhash-1.0.9 pathy-0.10.1 preshed-3.0.8 pydantic-1.10.5 smart-open-6.3.0 spacy-3.5.0 spacy-legacy-3.0.12 spacy-loggers-1.0.4 srsly-2.4.5 thinc-8.1.7 tqdm-4.64.1 typer-0.7.0 typing-extensions-4.5.0 wasabi-1.1.1\nPython interpreter will be restarted.\n</div>",
       "datasetInfos": [],
       "metadata": {},
       "removedWidgets": [],
       "type": "html"
      }
     },
     "output_type": "display_data"
    }
   ],
   "source": [
    "pip install spacy"
   ]
  },
  {
   "cell_type": "code",
   "execution_count": 0,
   "metadata": {
    "application/vnd.databricks.v1+cell": {
     "cellMetadata": {},
     "inputWidgets": {},
     "nuid": "b1c7741f-42fb-4636-ad69-beb122e6fcba",
     "showTitle": false,
     "title": ""
    }
   },
   "outputs": [
    {
     "data": {
      "text/html": [
       "<style scoped>\n",
       "  .ansiout {\n",
       "    display: block;\n",
       "    unicode-bidi: embed;\n",
       "    white-space: pre-wrap;\n",
       "    word-wrap: break-word;\n",
       "    word-break: break-all;\n",
       "    font-family: \"Source Code Pro\", \"Menlo\", monospace;;\n",
       "    font-size: 13px;\n",
       "    color: #555;\n",
       "    margin-left: 4px;\n",
       "    line-height: 19px;\n",
       "  }\n",
       "</style>\n",
       "<div class=\"ansiout\">Python interpreter will be restarted.\n",
       "Collecting https://github.com/explosion/spacy-models/releases/download/en_core_web_sm-3.0.0/en_core_web_sm-3.0.0.tar.gz\n",
       "  Downloading https://github.com/explosion/spacy-models/releases/download/en_core_web_sm-3.0.0/en_core_web_sm-3.0.0.tar.gz (13.7 MB)\n",
       "Collecting spacy&lt;3.1.0,&gt;=3.0.0\n",
       "  Using cached spacy-3.0.9-cp38-cp38-manylinux_2_17_x86_64.manylinux2014_x86_64.whl (6.0 MB)\n",
       "Requirement already satisfied: tqdm&lt;5.0.0,&gt;=4.38.0 in /local_disk0/.ephemeral_nfs/envs/pythonEnv-52cb5185-7380-4480-8564-7755a9336965/lib/python3.8/site-packages (from spacy&lt;3.1.0,&gt;=3.0.0-&gt;en-core-web-sm==3.0.0) (4.64.1)\n",
       "Requirement already satisfied: pathy&gt;=0.3.5 in /local_disk0/.ephemeral_nfs/envs/pythonEnv-52cb5185-7380-4480-8564-7755a9336965/lib/python3.8/site-packages (from spacy&lt;3.1.0,&gt;=3.0.0-&gt;en-core-web-sm==3.0.0) (0.10.1)\n",
       "Collecting pydantic!=1.8,!=1.8.1,&lt;1.9.0,&gt;=1.7.4\n",
       "  Using cached pydantic-1.8.2-cp38-cp38-manylinux2014_x86_64.whl (13.7 MB)\n",
       "Requirement already satisfied: catalogue&lt;2.1.0,&gt;=2.0.4 in /local_disk0/.ephemeral_nfs/envs/pythonEnv-52cb5185-7380-4480-8564-7755a9336965/lib/python3.8/site-packages (from spacy&lt;3.1.0,&gt;=3.0.0-&gt;en-core-web-sm==3.0.0) (2.0.8)\n",
       "Requirement already satisfied: preshed&lt;3.1.0,&gt;=3.0.2 in /local_disk0/.ephemeral_nfs/envs/pythonEnv-52cb5185-7380-4480-8564-7755a9336965/lib/python3.8/site-packages (from spacy&lt;3.1.0,&gt;=3.0.0-&gt;en-core-web-sm==3.0.0) (3.0.8)\n",
       "Requirement already satisfied: requests&lt;3.0.0,&gt;=2.13.0 in /databricks/python3/lib/python3.8/site-packages (from spacy&lt;3.1.0,&gt;=3.0.0-&gt;en-core-web-sm==3.0.0) (2.25.1)\n",
       "Collecting typer&lt;0.4.0,&gt;=0.3.0\n",
       "  Using cached typer-0.3.2-py3-none-any.whl (21 kB)\n",
       "Requirement already satisfied: spacy-legacy&lt;3.1.0,&gt;=3.0.5 in /local_disk0/.ephemeral_nfs/envs/pythonEnv-52cb5185-7380-4480-8564-7755a9336965/lib/python3.8/site-packages (from spacy&lt;3.1.0,&gt;=3.0.0-&gt;en-core-web-sm==3.0.0) (3.0.12)\n",
       "Collecting thinc&lt;8.1.0,&gt;=8.0.3\n",
       "  Using cached thinc-8.0.17-cp38-cp38-manylinux_2_17_x86_64.manylinux2014_x86_64.whl (671 kB)\n",
       "Requirement already satisfied: setuptools in /usr/local/lib/python3.8/dist-packages (from spacy&lt;3.1.0,&gt;=3.0.0-&gt;en-core-web-sm==3.0.0) (52.0.0)\n",
       "Requirement already satisfied: numpy&gt;=1.15.0 in /databricks/python3/lib/python3.8/site-packages (from spacy&lt;3.1.0,&gt;=3.0.0-&gt;en-core-web-sm==3.0.0) (1.20.1)\n",
       "Requirement already satisfied: blis&lt;0.8.0,&gt;=0.4.0 in /local_disk0/.ephemeral_nfs/envs/pythonEnv-52cb5185-7380-4480-8564-7755a9336965/lib/python3.8/site-packages (from spacy&lt;3.1.0,&gt;=3.0.0-&gt;en-core-web-sm==3.0.0) (0.7.9)\n",
       "Requirement already satisfied: murmurhash&lt;1.1.0,&gt;=0.28.0 in /local_disk0/.ephemeral_nfs/envs/pythonEnv-52cb5185-7380-4480-8564-7755a9336965/lib/python3.8/site-packages (from spacy&lt;3.1.0,&gt;=3.0.0-&gt;en-core-web-sm==3.0.0) (1.0.9)\n",
       "Requirement already satisfied: srsly&lt;3.0.0,&gt;=2.4.1 in /local_disk0/.ephemeral_nfs/envs/pythonEnv-52cb5185-7380-4480-8564-7755a9336965/lib/python3.8/site-packages (from spacy&lt;3.1.0,&gt;=3.0.0-&gt;en-core-web-sm==3.0.0) (2.4.5)\n",
       "Requirement already satisfied: smart-open&lt;7.0.0,&gt;=5.2.1 in /local_disk0/.ephemeral_nfs/envs/pythonEnv-52cb5185-7380-4480-8564-7755a9336965/lib/python3.8/site-packages (from spacy&lt;3.1.0,&gt;=3.0.0-&gt;en-core-web-sm==3.0.0) (6.3.0)\n",
       "Requirement already satisfied: jinja2 in /databricks/python3/lib/python3.8/site-packages (from spacy&lt;3.1.0,&gt;=3.0.0-&gt;en-core-web-sm==3.0.0) (2.11.3)\n",
       "Requirement already satisfied: packaging&gt;=20.0 in /databricks/python3/lib/python3.8/site-packages (from spacy&lt;3.1.0,&gt;=3.0.0-&gt;en-core-web-sm==3.0.0) (20.9)\n",
       "Requirement already satisfied: cymem&lt;2.1.0,&gt;=2.0.2 in /local_disk0/.ephemeral_nfs/envs/pythonEnv-52cb5185-7380-4480-8564-7755a9336965/lib/python3.8/site-packages (from spacy&lt;3.1.0,&gt;=3.0.0-&gt;en-core-web-sm==3.0.0) (2.0.7)\n",
       "Collecting wasabi&lt;1.1.0,&gt;=0.8.1\n",
       "  Using cached wasabi-0.10.1-py3-none-any.whl (26 kB)\n",
       "Requirement already satisfied: pyparsing&gt;=2.0.2 in /databricks/python3/lib/python3.8/site-packages (from packaging&gt;=20.0-&gt;spacy&lt;3.1.0,&gt;=3.0.0-&gt;en-core-web-sm==3.0.0) (2.4.7)\n",
       "Requirement already satisfied: typing-extensions&gt;=3.7.4.3 in /local_disk0/.ephemeral_nfs/envs/pythonEnv-52cb5185-7380-4480-8564-7755a9336965/lib/python3.8/site-packages (from pydantic!=1.8,!=1.8.1,&lt;1.9.0,&gt;=1.7.4-&gt;spacy&lt;3.1.0,&gt;=3.0.0-&gt;en-core-web-sm==3.0.0) (4.5.0)\n",
       "Requirement already satisfied: urllib3&lt;1.27,&gt;=1.21.1 in /databricks/python3/lib/python3.8/site-packages (from requests&lt;3.0.0,&gt;=2.13.0-&gt;spacy&lt;3.1.0,&gt;=3.0.0-&gt;en-core-web-sm==3.0.0) (1.25.11)\n",
       "Requirement already satisfied: certifi&gt;=2017.4.17 in /databricks/python3/lib/python3.8/site-packages (from requests&lt;3.0.0,&gt;=2.13.0-&gt;spacy&lt;3.1.0,&gt;=3.0.0-&gt;en-core-web-sm==3.0.0) (2020.12.5)\n",
       "Requirement already satisfied: chardet&lt;5,&gt;=3.0.2 in /databricks/python3/lib/python3.8/site-packages (from requests&lt;3.0.0,&gt;=2.13.0-&gt;spacy&lt;3.1.0,&gt;=3.0.0-&gt;en-core-web-sm==3.0.0) (4.0.0)\n",
       "Requirement already satisfied: idna&lt;3,&gt;=2.5 in /databricks/python3/lib/python3.8/site-packages (from requests&lt;3.0.0,&gt;=2.13.0-&gt;spacy&lt;3.1.0,&gt;=3.0.0-&gt;en-core-web-sm==3.0.0) (2.10)\n",
       "Collecting click&lt;7.2.0,&gt;=7.1.1\n",
       "  Using cached click-7.1.2-py2.py3-none-any.whl (82 kB)\n",
       "Requirement already satisfied: MarkupSafe&gt;=0.23 in /databricks/python3/lib/python3.8/site-packages (from jinja2-&gt;spacy&lt;3.1.0,&gt;=3.0.0-&gt;en-core-web-sm==3.0.0) (2.0.1)\n",
       "Building wheels for collected packages: en-core-web-sm\n",
       "  Building wheel for en-core-web-sm (setup.py): started\n",
       "  Building wheel for en-core-web-sm (setup.py): finished with status &#39;done&#39;\n",
       "  Created wheel for en-core-web-sm: filename=en_core_web_sm-3.0.0-py3-none-any.whl size=13704311 sha256=24ee468e23dc734dec27ebc6432614ae15e7f69b554d73df88a21b6f39cc3b86\n",
       "  Stored in directory: /root/.cache/pip/wheels/8b/21/c1/257748af7399fdaf1b2afc39c92fb839c436f42e67b656ff7e\n",
       "Successfully built en-core-web-sm\n",
       "Installing collected packages: click, wasabi, typer, pydantic, thinc, spacy, en-core-web-sm\n",
       "  Attempting uninstall: click\n",
       "    Found existing installation: click 8.1.3\n",
       "    Uninstalling click-8.1.3:\n",
       "      Successfully uninstalled click-8.1.3\n",
       "  Attempting uninstall: wasabi\n",
       "    Found existing installation: wasabi 1.1.1\n",
       "    Uninstalling wasabi-1.1.1:\n",
       "      Successfully uninstalled wasabi-1.1.1\n",
       "  Attempting uninstall: typer\n",
       "    Found existing installation: typer 0.7.0\n",
       "    Uninstalling typer-0.7.0:\n",
       "      Successfully uninstalled typer-0.7.0\n",
       "  Attempting uninstall: pydantic\n",
       "    Found existing installation: pydantic 1.10.5\n",
       "    Uninstalling pydantic-1.10.5:\n",
       "      Successfully uninstalled pydantic-1.10.5\n",
       "  Attempting uninstall: thinc\n",
       "    Found existing installation: thinc 8.1.7\n",
       "    Uninstalling thinc-8.1.7:\n",
       "      Successfully uninstalled thinc-8.1.7\n",
       "  Attempting uninstall: spacy\n",
       "    Found existing installation: spacy 3.5.0\n",
       "    Uninstalling spacy-3.5.0:\n",
       "      Successfully uninstalled spacy-3.5.0\n",
       "Successfully installed click-7.1.2 en-core-web-sm-3.0.0 pydantic-1.8.2 spacy-3.0.9 thinc-8.0.17 typer-0.3.2 wasabi-0.10.1\n",
       "Python interpreter will be restarted.\n",
       "</div>"
      ]
     },
     "metadata": {
      "application/vnd.databricks.v1+output": {
       "addedWidgets": {},
       "arguments": {},
       "data": "<div class=\"ansiout\">Python interpreter will be restarted.\nCollecting https://github.com/explosion/spacy-models/releases/download/en_core_web_sm-3.0.0/en_core_web_sm-3.0.0.tar.gz\n  Downloading https://github.com/explosion/spacy-models/releases/download/en_core_web_sm-3.0.0/en_core_web_sm-3.0.0.tar.gz (13.7 MB)\nCollecting spacy&lt;3.1.0,&gt;=3.0.0\n  Using cached spacy-3.0.9-cp38-cp38-manylinux_2_17_x86_64.manylinux2014_x86_64.whl (6.0 MB)\nRequirement already satisfied: tqdm&lt;5.0.0,&gt;=4.38.0 in /local_disk0/.ephemeral_nfs/envs/pythonEnv-52cb5185-7380-4480-8564-7755a9336965/lib/python3.8/site-packages (from spacy&lt;3.1.0,&gt;=3.0.0-&gt;en-core-web-sm==3.0.0) (4.64.1)\nRequirement already satisfied: pathy&gt;=0.3.5 in /local_disk0/.ephemeral_nfs/envs/pythonEnv-52cb5185-7380-4480-8564-7755a9336965/lib/python3.8/site-packages (from spacy&lt;3.1.0,&gt;=3.0.0-&gt;en-core-web-sm==3.0.0) (0.10.1)\nCollecting pydantic!=1.8,!=1.8.1,&lt;1.9.0,&gt;=1.7.4\n  Using cached pydantic-1.8.2-cp38-cp38-manylinux2014_x86_64.whl (13.7 MB)\nRequirement already satisfied: catalogue&lt;2.1.0,&gt;=2.0.4 in /local_disk0/.ephemeral_nfs/envs/pythonEnv-52cb5185-7380-4480-8564-7755a9336965/lib/python3.8/site-packages (from spacy&lt;3.1.0,&gt;=3.0.0-&gt;en-core-web-sm==3.0.0) (2.0.8)\nRequirement already satisfied: preshed&lt;3.1.0,&gt;=3.0.2 in /local_disk0/.ephemeral_nfs/envs/pythonEnv-52cb5185-7380-4480-8564-7755a9336965/lib/python3.8/site-packages (from spacy&lt;3.1.0,&gt;=3.0.0-&gt;en-core-web-sm==3.0.0) (3.0.8)\nRequirement already satisfied: requests&lt;3.0.0,&gt;=2.13.0 in /databricks/python3/lib/python3.8/site-packages (from spacy&lt;3.1.0,&gt;=3.0.0-&gt;en-core-web-sm==3.0.0) (2.25.1)\nCollecting typer&lt;0.4.0,&gt;=0.3.0\n  Using cached typer-0.3.2-py3-none-any.whl (21 kB)\nRequirement already satisfied: spacy-legacy&lt;3.1.0,&gt;=3.0.5 in /local_disk0/.ephemeral_nfs/envs/pythonEnv-52cb5185-7380-4480-8564-7755a9336965/lib/python3.8/site-packages (from spacy&lt;3.1.0,&gt;=3.0.0-&gt;en-core-web-sm==3.0.0) (3.0.12)\nCollecting thinc&lt;8.1.0,&gt;=8.0.3\n  Using cached thinc-8.0.17-cp38-cp38-manylinux_2_17_x86_64.manylinux2014_x86_64.whl (671 kB)\nRequirement already satisfied: setuptools in /usr/local/lib/python3.8/dist-packages (from spacy&lt;3.1.0,&gt;=3.0.0-&gt;en-core-web-sm==3.0.0) (52.0.0)\nRequirement already satisfied: numpy&gt;=1.15.0 in /databricks/python3/lib/python3.8/site-packages (from spacy&lt;3.1.0,&gt;=3.0.0-&gt;en-core-web-sm==3.0.0) (1.20.1)\nRequirement already satisfied: blis&lt;0.8.0,&gt;=0.4.0 in /local_disk0/.ephemeral_nfs/envs/pythonEnv-52cb5185-7380-4480-8564-7755a9336965/lib/python3.8/site-packages (from spacy&lt;3.1.0,&gt;=3.0.0-&gt;en-core-web-sm==3.0.0) (0.7.9)\nRequirement already satisfied: murmurhash&lt;1.1.0,&gt;=0.28.0 in /local_disk0/.ephemeral_nfs/envs/pythonEnv-52cb5185-7380-4480-8564-7755a9336965/lib/python3.8/site-packages (from spacy&lt;3.1.0,&gt;=3.0.0-&gt;en-core-web-sm==3.0.0) (1.0.9)\nRequirement already satisfied: srsly&lt;3.0.0,&gt;=2.4.1 in /local_disk0/.ephemeral_nfs/envs/pythonEnv-52cb5185-7380-4480-8564-7755a9336965/lib/python3.8/site-packages (from spacy&lt;3.1.0,&gt;=3.0.0-&gt;en-core-web-sm==3.0.0) (2.4.5)\nRequirement already satisfied: smart-open&lt;7.0.0,&gt;=5.2.1 in /local_disk0/.ephemeral_nfs/envs/pythonEnv-52cb5185-7380-4480-8564-7755a9336965/lib/python3.8/site-packages (from spacy&lt;3.1.0,&gt;=3.0.0-&gt;en-core-web-sm==3.0.0) (6.3.0)\nRequirement already satisfied: jinja2 in /databricks/python3/lib/python3.8/site-packages (from spacy&lt;3.1.0,&gt;=3.0.0-&gt;en-core-web-sm==3.0.0) (2.11.3)\nRequirement already satisfied: packaging&gt;=20.0 in /databricks/python3/lib/python3.8/site-packages (from spacy&lt;3.1.0,&gt;=3.0.0-&gt;en-core-web-sm==3.0.0) (20.9)\nRequirement already satisfied: cymem&lt;2.1.0,&gt;=2.0.2 in /local_disk0/.ephemeral_nfs/envs/pythonEnv-52cb5185-7380-4480-8564-7755a9336965/lib/python3.8/site-packages (from spacy&lt;3.1.0,&gt;=3.0.0-&gt;en-core-web-sm==3.0.0) (2.0.7)\nCollecting wasabi&lt;1.1.0,&gt;=0.8.1\n  Using cached wasabi-0.10.1-py3-none-any.whl (26 kB)\nRequirement already satisfied: pyparsing&gt;=2.0.2 in /databricks/python3/lib/python3.8/site-packages (from packaging&gt;=20.0-&gt;spacy&lt;3.1.0,&gt;=3.0.0-&gt;en-core-web-sm==3.0.0) (2.4.7)\nRequirement already satisfied: typing-extensions&gt;=3.7.4.3 in /local_disk0/.ephemeral_nfs/envs/pythonEnv-52cb5185-7380-4480-8564-7755a9336965/lib/python3.8/site-packages (from pydantic!=1.8,!=1.8.1,&lt;1.9.0,&gt;=1.7.4-&gt;spacy&lt;3.1.0,&gt;=3.0.0-&gt;en-core-web-sm==3.0.0) (4.5.0)\nRequirement already satisfied: urllib3&lt;1.27,&gt;=1.21.1 in /databricks/python3/lib/python3.8/site-packages (from requests&lt;3.0.0,&gt;=2.13.0-&gt;spacy&lt;3.1.0,&gt;=3.0.0-&gt;en-core-web-sm==3.0.0) (1.25.11)\nRequirement already satisfied: certifi&gt;=2017.4.17 in /databricks/python3/lib/python3.8/site-packages (from requests&lt;3.0.0,&gt;=2.13.0-&gt;spacy&lt;3.1.0,&gt;=3.0.0-&gt;en-core-web-sm==3.0.0) (2020.12.5)\nRequirement already satisfied: chardet&lt;5,&gt;=3.0.2 in /databricks/python3/lib/python3.8/site-packages (from requests&lt;3.0.0,&gt;=2.13.0-&gt;spacy&lt;3.1.0,&gt;=3.0.0-&gt;en-core-web-sm==3.0.0) (4.0.0)\nRequirement already satisfied: idna&lt;3,&gt;=2.5 in /databricks/python3/lib/python3.8/site-packages (from requests&lt;3.0.0,&gt;=2.13.0-&gt;spacy&lt;3.1.0,&gt;=3.0.0-&gt;en-core-web-sm==3.0.0) (2.10)\nCollecting click&lt;7.2.0,&gt;=7.1.1\n  Using cached click-7.1.2-py2.py3-none-any.whl (82 kB)\nRequirement already satisfied: MarkupSafe&gt;=0.23 in /databricks/python3/lib/python3.8/site-packages (from jinja2-&gt;spacy&lt;3.1.0,&gt;=3.0.0-&gt;en-core-web-sm==3.0.0) (2.0.1)\nBuilding wheels for collected packages: en-core-web-sm\n  Building wheel for en-core-web-sm (setup.py): started\n  Building wheel for en-core-web-sm (setup.py): finished with status &#39;done&#39;\n  Created wheel for en-core-web-sm: filename=en_core_web_sm-3.0.0-py3-none-any.whl size=13704311 sha256=24ee468e23dc734dec27ebc6432614ae15e7f69b554d73df88a21b6f39cc3b86\n  Stored in directory: /root/.cache/pip/wheels/8b/21/c1/257748af7399fdaf1b2afc39c92fb839c436f42e67b656ff7e\nSuccessfully built en-core-web-sm\nInstalling collected packages: click, wasabi, typer, pydantic, thinc, spacy, en-core-web-sm\n  Attempting uninstall: click\n    Found existing installation: click 8.1.3\n    Uninstalling click-8.1.3:\n      Successfully uninstalled click-8.1.3\n  Attempting uninstall: wasabi\n    Found existing installation: wasabi 1.1.1\n    Uninstalling wasabi-1.1.1:\n      Successfully uninstalled wasabi-1.1.1\n  Attempting uninstall: typer\n    Found existing installation: typer 0.7.0\n    Uninstalling typer-0.7.0:\n      Successfully uninstalled typer-0.7.0\n  Attempting uninstall: pydantic\n    Found existing installation: pydantic 1.10.5\n    Uninstalling pydantic-1.10.5:\n      Successfully uninstalled pydantic-1.10.5\n  Attempting uninstall: thinc\n    Found existing installation: thinc 8.1.7\n    Uninstalling thinc-8.1.7:\n      Successfully uninstalled thinc-8.1.7\n  Attempting uninstall: spacy\n    Found existing installation: spacy 3.5.0\n    Uninstalling spacy-3.5.0:\n      Successfully uninstalled spacy-3.5.0\nSuccessfully installed click-7.1.2 en-core-web-sm-3.0.0 pydantic-1.8.2 spacy-3.0.9 thinc-8.0.17 typer-0.3.2 wasabi-0.10.1\nPython interpreter will be restarted.\n</div>",
       "datasetInfos": [],
       "metadata": {},
       "removedWidgets": [],
       "type": "html"
      }
     },
     "output_type": "display_data"
    }
   ],
   "source": [
    "pip install \"https://github.com/explosion/spacy-models/releases/download/en_core_web_sm-3.0.0/en_core_web_sm-3.0.0.tar.gz\""
   ]
  },
  {
   "cell_type": "code",
   "execution_count": 0,
   "metadata": {
    "application/vnd.databricks.v1+cell": {
     "cellMetadata": {},
     "inputWidgets": {},
     "nuid": "9e7b8a9d-b8c6-4995-b7a1-9c300e46031f",
     "showTitle": false,
     "title": ""
    }
   },
   "outputs": [
    {
     "data": {
      "text/html": [
       "<style scoped>\n",
       "  .ansiout {\n",
       "    display: block;\n",
       "    unicode-bidi: embed;\n",
       "    white-space: pre-wrap;\n",
       "    word-wrap: break-word;\n",
       "    word-break: break-all;\n",
       "    font-family: \"Source Code Pro\", \"Menlo\", monospace;;\n",
       "    font-size: 13px;\n",
       "    color: #555;\n",
       "    margin-left: 4px;\n",
       "    line-height: 19px;\n",
       "  }\n",
       "</style>\n",
       "<div class=\"ansiout\"></div>"
      ]
     },
     "metadata": {
      "application/vnd.databricks.v1+output": {
       "addedWidgets": {},
       "arguments": {},
       "data": "<div class=\"ansiout\"></div>",
       "datasetInfos": [],
       "metadata": {},
       "removedWidgets": [],
       "type": "html"
      }
     },
     "output_type": "display_data"
    }
   ],
   "source": [
    "# Perform standard imports:\n",
    "import spacy\n",
    "nlp = spacy.load('en_core_web_sm')"
   ]
  },
  {
   "cell_type": "code",
   "execution_count": 0,
   "metadata": {
    "application/vnd.databricks.v1+cell": {
     "cellMetadata": {},
     "inputWidgets": {},
     "nuid": "2cda97bd-a72c-48da-9d3a-2f3c6d9368be",
     "showTitle": false,
     "title": ""
    }
   },
   "outputs": [
    {
     "data": {
      "text/html": [
       "<style scoped>\n",
       "  .ansiout {\n",
       "    display: block;\n",
       "    unicode-bidi: embed;\n",
       "    white-space: pre-wrap;\n",
       "    word-wrap: break-word;\n",
       "    word-break: break-all;\n",
       "    font-family: \"Source Code Pro\", \"Menlo\", monospace;;\n",
       "    font-size: 13px;\n",
       "    color: #555;\n",
       "    margin-left: 4px;\n",
       "    line-height: 19px;\n",
       "  }\n",
       "</style>\n",
       "<div class=\"ansiout\">I \t PRON \t 4690420944186131903 \t I\n",
       "am \t AUX \t 10382539506755952630 \t be\n",
       "a \t DET \t 11901859001352538922 \t a\n",
       "runner \t NOUN \t 12640964157389618806 \t runner\n",
       "running \t VERB \t 12767647472892411841 \t run\n",
       "in \t ADP \t 3002984154512732771 \t in\n",
       "a \t DET \t 11901859001352538922 \t a\n",
       "race \t NOUN \t 8048469955494714898 \t race\n",
       "because \t SCONJ \t 16950148841647037698 \t because\n",
       "I \t PRON \t 4690420944186131903 \t I\n",
       "love \t VERB \t 3702023516439754181 \t love\n",
       "to \t PART \t 3791531372978436496 \t to\n",
       "run \t VERB \t 12767647472892411841 \t run\n",
       "since \t SCONJ \t 10066841407251338481 \t since\n",
       "I \t PRON \t 4690420944186131903 \t I\n",
       "ran \t VERB \t 12767647472892411841 \t run\n",
       "today \t NOUN \t 11042482332948150395 \t today\n",
       "</div>"
      ]
     },
     "metadata": {
      "application/vnd.databricks.v1+output": {
       "addedWidgets": {},
       "arguments": {},
       "data": "<div class=\"ansiout\">I \t PRON \t 4690420944186131903 \t I\nam \t AUX \t 10382539506755952630 \t be\na \t DET \t 11901859001352538922 \t a\nrunner \t NOUN \t 12640964157389618806 \t runner\nrunning \t VERB \t 12767647472892411841 \t run\nin \t ADP \t 3002984154512732771 \t in\na \t DET \t 11901859001352538922 \t a\nrace \t NOUN \t 8048469955494714898 \t race\nbecause \t SCONJ \t 16950148841647037698 \t because\nI \t PRON \t 4690420944186131903 \t I\nlove \t VERB \t 3702023516439754181 \t love\nto \t PART \t 3791531372978436496 \t to\nrun \t VERB \t 12767647472892411841 \t run\nsince \t SCONJ \t 10066841407251338481 \t since\nI \t PRON \t 4690420944186131903 \t I\nran \t VERB \t 12767647472892411841 \t run\ntoday \t NOUN \t 11042482332948150395 \t today\n</div>",
       "datasetInfos": [],
       "metadata": {},
       "removedWidgets": [],
       "type": "html"
      }
     },
     "output_type": "display_data"
    }
   ],
   "source": [
    "doc1 = nlp(u\"I am a runner running in a race because I love to run since I ran today\")\n",
    "\n",
    "for token in doc1:\n",
    "    print(token.text, '\\t', token.pos_, '\\t', token.lemma, '\\t', token.lemma_)"
   ]
  },
  {
   "cell_type": "markdown",
   "metadata": {
    "application/vnd.databricks.v1+cell": {
     "cellMetadata": {},
     "inputWidgets": {},
     "nuid": "aa775eea-7ec9-4f2f-b20a-7b639ef68d5f",
     "showTitle": false,
     "title": ""
    }
   },
   "source": [
    "<font color=green>In the above sentence, `running`, `run` and `ran` all point to the same lemma `run` (...11841) to avoid duplication.</font>"
   ]
  },
  {
   "cell_type": "markdown",
   "metadata": {
    "application/vnd.databricks.v1+cell": {
     "cellMetadata": {},
     "inputWidgets": {},
     "nuid": "e36becaa-254e-4315-9c1e-84049cf4f558",
     "showTitle": false,
     "title": ""
    }
   },
   "source": [
    "### Function to display lemmas\n",
    "Since the display above is staggared and hard to read, let's write a function that displays the information we want more neatly."
   ]
  },
  {
   "cell_type": "code",
   "execution_count": 0,
   "metadata": {
    "application/vnd.databricks.v1+cell": {
     "cellMetadata": {},
     "inputWidgets": {},
     "nuid": "7b091039-26a1-440d-bdd3-12cde531c833",
     "showTitle": false,
     "title": ""
    }
   },
   "outputs": [
    {
     "data": {
      "text/html": [
       "<style scoped>\n",
       "  .ansiout {\n",
       "    display: block;\n",
       "    unicode-bidi: embed;\n",
       "    white-space: pre-wrap;\n",
       "    word-wrap: break-word;\n",
       "    word-break: break-all;\n",
       "    font-family: \"Source Code Pro\", \"Menlo\", monospace;;\n",
       "    font-size: 13px;\n",
       "    color: #555;\n",
       "    margin-left: 4px;\n",
       "    line-height: 19px;\n",
       "  }\n",
       "</style>\n",
       "<div class=\"ansiout\"></div>"
      ]
     },
     "metadata": {
      "application/vnd.databricks.v1+output": {
       "addedWidgets": {},
       "arguments": {},
       "data": "<div class=\"ansiout\"></div>",
       "datasetInfos": [],
       "metadata": {},
       "removedWidgets": [],
       "type": "html"
      }
     },
     "output_type": "display_data"
    }
   ],
   "source": [
    "def show_lemmas(text):\n",
    "    for token in text:\n",
    "        print(f'{token.text:{12}} {token.pos_:{6}} {token.lemma:<{22}} {token.lemma_}')"
   ]
  },
  {
   "cell_type": "markdown",
   "metadata": {
    "application/vnd.databricks.v1+cell": {
     "cellMetadata": {},
     "inputWidgets": {},
     "nuid": "a6396397-8ac1-4332-915a-24788f9f215b",
     "showTitle": false,
     "title": ""
    }
   },
   "source": [
    "Here we're using an **f-string** to format the printed text by setting minimum field widths and adding a left-align to the lemma hash value."
   ]
  },
  {
   "cell_type": "code",
   "execution_count": 0,
   "metadata": {
    "application/vnd.databricks.v1+cell": {
     "cellMetadata": {},
     "inputWidgets": {},
     "nuid": "6f75082a-02ce-41d9-9773-e5be86dc4a2f",
     "showTitle": false,
     "title": ""
    }
   },
   "outputs": [
    {
     "data": {
      "text/html": [
       "<style scoped>\n",
       "  .ansiout {\n",
       "    display: block;\n",
       "    unicode-bidi: embed;\n",
       "    white-space: pre-wrap;\n",
       "    word-wrap: break-word;\n",
       "    word-break: break-all;\n",
       "    font-family: \"Source Code Pro\", \"Menlo\", monospace;;\n",
       "    font-size: 13px;\n",
       "    color: #555;\n",
       "    margin-left: 4px;\n",
       "    line-height: 19px;\n",
       "  }\n",
       "</style>\n",
       "<div class=\"ansiout\">I            PRON   4690420944186131903    I\n",
       "saw          VERB   11925638236994514241   see\n",
       "eighteen     NUM    9609336664675087640    eighteen\n",
       "mice         NOUN   1384165645700560590    mouse\n",
       "today        NOUN   11042482332948150395   today\n",
       "!            PUNCT  17494803046312582752   !\n",
       "</div>"
      ]
     },
     "metadata": {
      "application/vnd.databricks.v1+output": {
       "addedWidgets": {},
       "arguments": {},
       "data": "<div class=\"ansiout\">I            PRON   4690420944186131903    I\nsaw          VERB   11925638236994514241   see\neighteen     NUM    9609336664675087640    eighteen\nmice         NOUN   1384165645700560590    mouse\ntoday        NOUN   11042482332948150395   today\n!            PUNCT  17494803046312582752   !\n</div>",
       "datasetInfos": [],
       "metadata": {},
       "removedWidgets": [],
       "type": "html"
      }
     },
     "output_type": "display_data"
    }
   ],
   "source": [
    "doc2 = nlp(u\"I saw eighteen mice today!\")\n",
    "\n",
    "show_lemmas(doc2)"
   ]
  },
  {
   "cell_type": "markdown",
   "metadata": {
    "application/vnd.databricks.v1+cell": {
     "cellMetadata": {},
     "inputWidgets": {},
     "nuid": "c16e0f55-1279-4967-9680-0a6c44e7cf24",
     "showTitle": false,
     "title": ""
    }
   },
   "source": [
    "<font color=green>Notice that the lemma of `saw` is `see`, `mice` is the plural form of `mouse`, and yet `eighteen` is its own number, *not* an expanded form of `eight`.</font>"
   ]
  },
  {
   "cell_type": "code",
   "execution_count": 0,
   "metadata": {
    "application/vnd.databricks.v1+cell": {
     "cellMetadata": {},
     "inputWidgets": {},
     "nuid": "fe3bdc26-7140-45e8-8ccf-b94ddf6bcc18",
     "showTitle": false,
     "title": ""
    }
   },
   "outputs": [
    {
     "data": {
      "text/html": [
       "<style scoped>\n",
       "  .ansiout {\n",
       "    display: block;\n",
       "    unicode-bidi: embed;\n",
       "    white-space: pre-wrap;\n",
       "    word-wrap: break-word;\n",
       "    word-break: break-all;\n",
       "    font-family: \"Source Code Pro\", \"Menlo\", monospace;;\n",
       "    font-size: 13px;\n",
       "    color: #555;\n",
       "    margin-left: 4px;\n",
       "    line-height: 19px;\n",
       "  }\n",
       "</style>\n",
       "<div class=\"ansiout\">I            PRON   4690420944186131903    I\n",
       "am           AUX    10382539506755952630   be\n",
       "meeting      VERB   6880656908171229526    meet\n",
       "him          PRON   1655312771067108281    he\n",
       "tomorrow     NOUN   3573583789758258062    tomorrow\n",
       "at           ADP    11667289587015813222   at\n",
       "the          DET    7425985699627899538    the\n",
       "meeting      NOUN   14798207169164081740   meeting\n",
       ".            PUNCT  12646065887601541794   .\n",
       "</div>"
      ]
     },
     "metadata": {
      "application/vnd.databricks.v1+output": {
       "addedWidgets": {},
       "arguments": {},
       "data": "<div class=\"ansiout\">I            PRON   4690420944186131903    I\nam           AUX    10382539506755952630   be\nmeeting      VERB   6880656908171229526    meet\nhim          PRON   1655312771067108281    he\ntomorrow     NOUN   3573583789758258062    tomorrow\nat           ADP    11667289587015813222   at\nthe          DET    7425985699627899538    the\nmeeting      NOUN   14798207169164081740   meeting\n.            PUNCT  12646065887601541794   .\n</div>",
       "datasetInfos": [],
       "metadata": {},
       "removedWidgets": [],
       "type": "html"
      }
     },
     "output_type": "display_data"
    }
   ],
   "source": [
    "doc3 = nlp(u\"I am meeting him tomorrow at the meeting.\")\n",
    "\n",
    "show_lemmas(doc3)"
   ]
  },
  {
   "cell_type": "markdown",
   "metadata": {
    "application/vnd.databricks.v1+cell": {
     "cellMetadata": {},
     "inputWidgets": {},
     "nuid": "3323e5c8-9a77-4bf0-a6c6-1f4b8cd40796",
     "showTitle": false,
     "title": ""
    }
   },
   "source": [
    "<font color=green>Here the lemma of `meeting` is determined by its Part of Speech tag.</font>"
   ]
  },
  {
   "cell_type": "code",
   "execution_count": 0,
   "metadata": {
    "application/vnd.databricks.v1+cell": {
     "cellMetadata": {},
     "inputWidgets": {},
     "nuid": "df9ea19a-21c2-4315-a952-d6578d7b1298",
     "showTitle": false,
     "title": ""
    }
   },
   "outputs": [
    {
     "data": {
      "text/html": [
       "<style scoped>\n",
       "  .ansiout {\n",
       "    display: block;\n",
       "    unicode-bidi: embed;\n",
       "    white-space: pre-wrap;\n",
       "    word-wrap: break-word;\n",
       "    word-break: break-all;\n",
       "    font-family: \"Source Code Pro\", \"Menlo\", monospace;;\n",
       "    font-size: 13px;\n",
       "    color: #555;\n",
       "    margin-left: 4px;\n",
       "    line-height: 19px;\n",
       "  }\n",
       "</style>\n",
       "<div class=\"ansiout\">That         DET    4380130941430378203    that\n",
       "&#39;s           AUX    10382539506755952630   be\n",
       "an           DET    15099054000809333061   an\n",
       "enormous     ADJ    17917224542039855524   enormous\n",
       "automobile   NOUN   7211811266693931283    automobile\n",
       "</div>"
      ]
     },
     "metadata": {
      "application/vnd.databricks.v1+output": {
       "addedWidgets": {},
       "arguments": {},
       "data": "<div class=\"ansiout\">That         DET    4380130941430378203    that\n&#39;s           AUX    10382539506755952630   be\nan           DET    15099054000809333061   an\nenormous     ADJ    17917224542039855524   enormous\nautomobile   NOUN   7211811266693931283    automobile\n</div>",
       "datasetInfos": [],
       "metadata": {},
       "removedWidgets": [],
       "type": "html"
      }
     },
     "output_type": "display_data"
    }
   ],
   "source": [
    "doc4 = nlp(u\"That's an enormous automobile\")\n",
    "\n",
    "show_lemmas(doc4)"
   ]
  },
  {
   "cell_type": "markdown",
   "metadata": {
    "application/vnd.databricks.v1+cell": {
     "cellMetadata": {},
     "inputWidgets": {},
     "nuid": "b9db23b0-5b0b-42c2-aa6d-f02020db740f",
     "showTitle": false,
     "title": ""
    }
   },
   "source": [
    "<font color=green>Note that lemmatization does *not* reduce words to their most basic synonym - that is, `enormous` doesn't become `big` and `automobile` doesn't become `car`.</font>"
   ]
  },
  {
   "cell_type": "markdown",
   "metadata": {
    "application/vnd.databricks.v1+cell": {
     "cellMetadata": {},
     "inputWidgets": {},
     "nuid": "13ad245a-6fed-46a9-87b2-50f6f8b9f981",
     "showTitle": false,
     "title": ""
    }
   },
   "source": [
    "We should point out that although lemmatization looks at surrounding text to determine a given word's part of speech, it does not categorize phrases. In an upcoming lecture we'll investigate *word vectors and similarity*.\n",
    "\n",
    "## Next up: Stop Words"
   ]
  }
 ],
 "metadata": {
  "application/vnd.databricks.v1+notebook": {
   "dashboards": [],
   "language": "python",
   "notebookMetadata": {
    "pythonIndentUnit": 4
   },
   "notebookName": "03-Lemmatization",
   "notebookOrigID": 4081592202875896,
   "widgets": {}
  },
  "kernelspec": {
   "display_name": "Python 3",
   "language": "python",
   "name": "python3"
  },
  "language_info": {
   "codemirror_mode": {
    "name": "ipython",
    "version": 3
   },
   "file_extension": ".py",
   "mimetype": "text/x-python",
   "name": "python",
   "nbconvert_exporter": "python",
   "pygments_lexer": "ipython3",
   "version": "3.8.8"
  }
 },
 "nbformat": 4,
 "nbformat_minor": 1
}
