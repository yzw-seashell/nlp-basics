{
 "cells": [
  {
   "cell_type": "markdown",
   "metadata": {
    "application/vnd.databricks.v1+cell": {
     "cellMetadata": {},
     "inputWidgets": {},
     "nuid": "77033ba8-c667-4372-92df-0c7a3c53cd62",
     "showTitle": false,
     "title": ""
    }
   },
   "source": [
    "___\n",
    "\n",
    "<a href='http://www.pieriandata.com'> <img src='../Pierian_Data_Logo.png' /></a>\n",
    "___"
   ]
  },
  {
   "cell_type": "markdown",
   "metadata": {
    "application/vnd.databricks.v1+cell": {
     "cellMetadata": {},
     "inputWidgets": {},
     "nuid": "09ff5a37-8860-4fea-991f-214c5a2243c5",
     "showTitle": false,
     "title": ""
    }
   },
   "source": [
    "# Stop Words\n",
    "Words like \"a\" and \"the\" appear so frequently that they don't require tagging as thoroughly as nouns, verbs and modifiers. We call these *stop words*, and they can be filtered from the text to be processed. spaCy holds a built-in list of some 305 English stop words."
   ]
  },
  {
   "cell_type": "code",
   "execution_count": 0,
   "metadata": {
    "application/vnd.databricks.v1+cell": {
     "cellMetadata": {},
     "inputWidgets": {},
     "nuid": "b3f28815-0598-4c85-9a17-90cceb1eb9ef",
     "showTitle": false,
     "title": ""
    }
   },
   "outputs": [
    {
     "data": {
      "text/html": [
       "<style scoped>\n",
       "  .ansiout {\n",
       "    display: block;\n",
       "    unicode-bidi: embed;\n",
       "    white-space: pre-wrap;\n",
       "    word-wrap: break-word;\n",
       "    word-break: break-all;\n",
       "    font-family: \"Source Code Pro\", \"Menlo\", monospace;;\n",
       "    font-size: 13px;\n",
       "    color: #555;\n",
       "    margin-left: 4px;\n",
       "    line-height: 19px;\n",
       "  }\n",
       "</style>\n",
       "<div class=\"ansiout\">Python interpreter will be restarted.\n",
       "Collecting spacy\n",
       "  Using cached spacy-3.5.0-cp38-cp38-manylinux_2_17_x86_64.manylinux2014_x86_64.whl (6.7 MB)\n",
       "Collecting tqdm&lt;5.0.0,&gt;=4.38.0\n",
       "  Using cached tqdm-4.64.1-py2.py3-none-any.whl (78 kB)\n",
       "Collecting pydantic!=1.8,!=1.8.1,&lt;1.11.0,&gt;=1.7.4\n",
       "  Using cached pydantic-1.10.5-cp38-cp38-manylinux_2_17_x86_64.manylinux2014_x86_64.whl (3.2 MB)\n",
       "Collecting spacy-loggers&lt;2.0.0,&gt;=1.0.0\n",
       "  Using cached spacy_loggers-1.0.4-py3-none-any.whl (11 kB)\n",
       "Collecting wasabi&lt;1.2.0,&gt;=0.9.1\n",
       "  Using cached wasabi-1.1.1-py3-none-any.whl (27 kB)\n",
       "Collecting preshed&lt;3.1.0,&gt;=3.0.2\n",
       "  Using cached preshed-3.0.8-cp38-cp38-manylinux_2_5_x86_64.manylinux1_x86_64.manylinux_2_17_x86_64.manylinux2014_x86_64.whl (130 kB)\n",
       "Requirement already satisfied: requests&lt;3.0.0,&gt;=2.13.0 in /databricks/python3/lib/python3.8/site-packages (from spacy) (2.25.1)\n",
       "Collecting thinc&lt;8.2.0,&gt;=8.1.0\n",
       "  Using cached thinc-8.1.7-cp38-cp38-manylinux_2_17_x86_64.manylinux2014_x86_64.whl (828 kB)\n",
       "Collecting typer&lt;0.8.0,&gt;=0.3.0\n",
       "  Using cached typer-0.7.0-py3-none-any.whl (38 kB)\n",
       "Collecting spacy-legacy&lt;3.1.0,&gt;=3.0.11\n",
       "  Using cached spacy_legacy-3.0.12-py2.py3-none-any.whl (29 kB)\n",
       "Requirement already satisfied: numpy&gt;=1.15.0 in /databricks/python3/lib/python3.8/site-packages (from spacy) (1.20.1)\n",
       "Requirement already satisfied: setuptools in /usr/local/lib/python3.8/dist-packages (from spacy) (52.0.0)\n",
       "Collecting catalogue&lt;2.1.0,&gt;=2.0.6\n",
       "  Using cached catalogue-2.0.8-py3-none-any.whl (17 kB)\n",
       "Collecting murmurhash&lt;1.1.0,&gt;=0.28.0\n",
       "  Using cached murmurhash-1.0.9-cp38-cp38-manylinux_2_5_x86_64.manylinux1_x86_64.manylinux_2_17_x86_64.manylinux2014_x86_64.whl (21 kB)\n",
       "Collecting srsly&lt;3.0.0,&gt;=2.4.3\n",
       "  Using cached srsly-2.4.5-cp38-cp38-manylinux_2_17_x86_64.manylinux2014_x86_64.whl (492 kB)\n",
       "Collecting smart-open&lt;7.0.0,&gt;=5.2.1\n",
       "  Using cached smart_open-6.3.0-py3-none-any.whl (56 kB)\n",
       "Collecting pathy&gt;=0.10.0\n",
       "  Using cached pathy-0.10.1-py3-none-any.whl (48 kB)\n",
       "Requirement already satisfied: jinja2 in /databricks/python3/lib/python3.8/site-packages (from spacy) (2.11.3)\n",
       "Requirement already satisfied: packaging&gt;=20.0 in /databricks/python3/lib/python3.8/site-packages (from spacy) (20.9)\n",
       "Collecting cymem&lt;2.1.0,&gt;=2.0.2\n",
       "  Using cached cymem-2.0.7-cp38-cp38-manylinux_2_17_x86_64.manylinux2014_x86_64.whl (36 kB)\n",
       "Collecting langcodes&lt;4.0.0,&gt;=3.2.0\n",
       "  Using cached langcodes-3.3.0-py3-none-any.whl (181 kB)\n",
       "Requirement already satisfied: pyparsing&gt;=2.0.2 in /databricks/python3/lib/python3.8/site-packages (from packaging&gt;=20.0-&gt;spacy) (2.4.7)\n",
       "Collecting typing-extensions&gt;=4.2.0\n",
       "  Using cached typing_extensions-4.5.0-py3-none-any.whl (27 kB)\n",
       "Requirement already satisfied: urllib3&lt;1.27,&gt;=1.21.1 in /databricks/python3/lib/python3.8/site-packages (from requests&lt;3.0.0,&gt;=2.13.0-&gt;spacy) (1.25.11)\n",
       "Requirement already satisfied: certifi&gt;=2017.4.17 in /databricks/python3/lib/python3.8/site-packages (from requests&lt;3.0.0,&gt;=2.13.0-&gt;spacy) (2020.12.5)\n",
       "Requirement already satisfied: chardet&lt;5,&gt;=3.0.2 in /databricks/python3/lib/python3.8/site-packages (from requests&lt;3.0.0,&gt;=2.13.0-&gt;spacy) (4.0.0)\n",
       "Requirement already satisfied: idna&lt;3,&gt;=2.5 in /databricks/python3/lib/python3.8/site-packages (from requests&lt;3.0.0,&gt;=2.13.0-&gt;spacy) (2.10)\n",
       "Collecting blis&lt;0.8.0,&gt;=0.7.8\n",
       "  Using cached blis-0.7.9-cp38-cp38-manylinux_2_17_x86_64.manylinux2014_x86_64.whl (10.2 MB)\n",
       "Collecting confection&lt;1.0.0,&gt;=0.0.1\n",
       "  Using cached confection-0.0.4-py3-none-any.whl (32 kB)\n",
       "Collecting click&lt;9.0.0,&gt;=7.1.1\n",
       "  Using cached click-8.1.3-py3-none-any.whl (96 kB)\n",
       "Requirement already satisfied: MarkupSafe&gt;=0.23 in /databricks/python3/lib/python3.8/site-packages (from jinja2-&gt;spacy) (2.0.1)\n",
       "Installing collected packages: typing-extensions, catalogue, srsly, pydantic, murmurhash, cymem, click, wasabi, typer, smart-open, preshed, confection, blis, tqdm, thinc, spacy-loggers, spacy-legacy, pathy, langcodes, spacy\n",
       "Successfully installed blis-0.7.9 catalogue-2.0.8 click-8.1.3 confection-0.0.4 cymem-2.0.7 langcodes-3.3.0 murmurhash-1.0.9 pathy-0.10.1 preshed-3.0.8 pydantic-1.10.5 smart-open-6.3.0 spacy-3.5.0 spacy-legacy-3.0.12 spacy-loggers-1.0.4 srsly-2.4.5 thinc-8.1.7 tqdm-4.64.1 typer-0.7.0 typing-extensions-4.5.0 wasabi-1.1.1\n",
       "Python interpreter will be restarted.\n",
       "</div>"
      ]
     },
     "metadata": {
      "application/vnd.databricks.v1+output": {
       "addedWidgets": {},
       "arguments": {},
       "data": "<div class=\"ansiout\">Python interpreter will be restarted.\nCollecting spacy\n  Using cached spacy-3.5.0-cp38-cp38-manylinux_2_17_x86_64.manylinux2014_x86_64.whl (6.7 MB)\nCollecting tqdm&lt;5.0.0,&gt;=4.38.0\n  Using cached tqdm-4.64.1-py2.py3-none-any.whl (78 kB)\nCollecting pydantic!=1.8,!=1.8.1,&lt;1.11.0,&gt;=1.7.4\n  Using cached pydantic-1.10.5-cp38-cp38-manylinux_2_17_x86_64.manylinux2014_x86_64.whl (3.2 MB)\nCollecting spacy-loggers&lt;2.0.0,&gt;=1.0.0\n  Using cached spacy_loggers-1.0.4-py3-none-any.whl (11 kB)\nCollecting wasabi&lt;1.2.0,&gt;=0.9.1\n  Using cached wasabi-1.1.1-py3-none-any.whl (27 kB)\nCollecting preshed&lt;3.1.0,&gt;=3.0.2\n  Using cached preshed-3.0.8-cp38-cp38-manylinux_2_5_x86_64.manylinux1_x86_64.manylinux_2_17_x86_64.manylinux2014_x86_64.whl (130 kB)\nRequirement already satisfied: requests&lt;3.0.0,&gt;=2.13.0 in /databricks/python3/lib/python3.8/site-packages (from spacy) (2.25.1)\nCollecting thinc&lt;8.2.0,&gt;=8.1.0\n  Using cached thinc-8.1.7-cp38-cp38-manylinux_2_17_x86_64.manylinux2014_x86_64.whl (828 kB)\nCollecting typer&lt;0.8.0,&gt;=0.3.0\n  Using cached typer-0.7.0-py3-none-any.whl (38 kB)\nCollecting spacy-legacy&lt;3.1.0,&gt;=3.0.11\n  Using cached spacy_legacy-3.0.12-py2.py3-none-any.whl (29 kB)\nRequirement already satisfied: numpy&gt;=1.15.0 in /databricks/python3/lib/python3.8/site-packages (from spacy) (1.20.1)\nRequirement already satisfied: setuptools in /usr/local/lib/python3.8/dist-packages (from spacy) (52.0.0)\nCollecting catalogue&lt;2.1.0,&gt;=2.0.6\n  Using cached catalogue-2.0.8-py3-none-any.whl (17 kB)\nCollecting murmurhash&lt;1.1.0,&gt;=0.28.0\n  Using cached murmurhash-1.0.9-cp38-cp38-manylinux_2_5_x86_64.manylinux1_x86_64.manylinux_2_17_x86_64.manylinux2014_x86_64.whl (21 kB)\nCollecting srsly&lt;3.0.0,&gt;=2.4.3\n  Using cached srsly-2.4.5-cp38-cp38-manylinux_2_17_x86_64.manylinux2014_x86_64.whl (492 kB)\nCollecting smart-open&lt;7.0.0,&gt;=5.2.1\n  Using cached smart_open-6.3.0-py3-none-any.whl (56 kB)\nCollecting pathy&gt;=0.10.0\n  Using cached pathy-0.10.1-py3-none-any.whl (48 kB)\nRequirement already satisfied: jinja2 in /databricks/python3/lib/python3.8/site-packages (from spacy) (2.11.3)\nRequirement already satisfied: packaging&gt;=20.0 in /databricks/python3/lib/python3.8/site-packages (from spacy) (20.9)\nCollecting cymem&lt;2.1.0,&gt;=2.0.2\n  Using cached cymem-2.0.7-cp38-cp38-manylinux_2_17_x86_64.manylinux2014_x86_64.whl (36 kB)\nCollecting langcodes&lt;4.0.0,&gt;=3.2.0\n  Using cached langcodes-3.3.0-py3-none-any.whl (181 kB)\nRequirement already satisfied: pyparsing&gt;=2.0.2 in /databricks/python3/lib/python3.8/site-packages (from packaging&gt;=20.0-&gt;spacy) (2.4.7)\nCollecting typing-extensions&gt;=4.2.0\n  Using cached typing_extensions-4.5.0-py3-none-any.whl (27 kB)\nRequirement already satisfied: urllib3&lt;1.27,&gt;=1.21.1 in /databricks/python3/lib/python3.8/site-packages (from requests&lt;3.0.0,&gt;=2.13.0-&gt;spacy) (1.25.11)\nRequirement already satisfied: certifi&gt;=2017.4.17 in /databricks/python3/lib/python3.8/site-packages (from requests&lt;3.0.0,&gt;=2.13.0-&gt;spacy) (2020.12.5)\nRequirement already satisfied: chardet&lt;5,&gt;=3.0.2 in /databricks/python3/lib/python3.8/site-packages (from requests&lt;3.0.0,&gt;=2.13.0-&gt;spacy) (4.0.0)\nRequirement already satisfied: idna&lt;3,&gt;=2.5 in /databricks/python3/lib/python3.8/site-packages (from requests&lt;3.0.0,&gt;=2.13.0-&gt;spacy) (2.10)\nCollecting blis&lt;0.8.0,&gt;=0.7.8\n  Using cached blis-0.7.9-cp38-cp38-manylinux_2_17_x86_64.manylinux2014_x86_64.whl (10.2 MB)\nCollecting confection&lt;1.0.0,&gt;=0.0.1\n  Using cached confection-0.0.4-py3-none-any.whl (32 kB)\nCollecting click&lt;9.0.0,&gt;=7.1.1\n  Using cached click-8.1.3-py3-none-any.whl (96 kB)\nRequirement already satisfied: MarkupSafe&gt;=0.23 in /databricks/python3/lib/python3.8/site-packages (from jinja2-&gt;spacy) (2.0.1)\nInstalling collected packages: typing-extensions, catalogue, srsly, pydantic, murmurhash, cymem, click, wasabi, typer, smart-open, preshed, confection, blis, tqdm, thinc, spacy-loggers, spacy-legacy, pathy, langcodes, spacy\nSuccessfully installed blis-0.7.9 catalogue-2.0.8 click-8.1.3 confection-0.0.4 cymem-2.0.7 langcodes-3.3.0 murmurhash-1.0.9 pathy-0.10.1 preshed-3.0.8 pydantic-1.10.5 smart-open-6.3.0 spacy-3.5.0 spacy-legacy-3.0.12 spacy-loggers-1.0.4 srsly-2.4.5 thinc-8.1.7 tqdm-4.64.1 typer-0.7.0 typing-extensions-4.5.0 wasabi-1.1.1\nPython interpreter will be restarted.\n</div>",
       "datasetInfos": [],
       "metadata": {},
       "removedWidgets": [],
       "type": "html"
      }
     },
     "output_type": "display_data"
    }
   ],
   "source": [
    "pip install spacy"
   ]
  },
  {
   "cell_type": "code",
   "execution_count": 0,
   "metadata": {
    "application/vnd.databricks.v1+cell": {
     "cellMetadata": {},
     "inputWidgets": {},
     "nuid": "16d04ab0-b6ca-4f6f-9cca-d40511ff64fc",
     "showTitle": false,
     "title": ""
    }
   },
   "outputs": [
    {
     "data": {
      "text/html": [
       "<style scoped>\n",
       "  .ansiout {\n",
       "    display: block;\n",
       "    unicode-bidi: embed;\n",
       "    white-space: pre-wrap;\n",
       "    word-wrap: break-word;\n",
       "    word-break: break-all;\n",
       "    font-family: \"Source Code Pro\", \"Menlo\", monospace;;\n",
       "    font-size: 13px;\n",
       "    color: #555;\n",
       "    margin-left: 4px;\n",
       "    line-height: 19px;\n",
       "  }\n",
       "</style>\n",
       "<div class=\"ansiout\">Python interpreter will be restarted.\n",
       "Collecting https://github.com/explosion/spacy-models/releases/download/en_core_web_sm-3.0.0/en_core_web_sm-3.0.0.tar.gz\n",
       "  Downloading https://github.com/explosion/spacy-models/releases/download/en_core_web_sm-3.0.0/en_core_web_sm-3.0.0.tar.gz (13.7 MB)\n",
       "Collecting spacy&lt;3.1.0,&gt;=3.0.0\n",
       "  Using cached spacy-3.0.9-cp38-cp38-manylinux_2_17_x86_64.manylinux2014_x86_64.whl (6.0 MB)\n",
       "Requirement already satisfied: tqdm&lt;5.0.0,&gt;=4.38.0 in /local_disk0/.ephemeral_nfs/envs/pythonEnv-690c4f03-7f7f-473a-922a-889a16fdc7fe/lib/python3.8/site-packages (from spacy&lt;3.1.0,&gt;=3.0.0-&gt;en-core-web-sm==3.0.0) (4.64.1)\n",
       "Requirement already satisfied: pathy&gt;=0.3.5 in /local_disk0/.ephemeral_nfs/envs/pythonEnv-690c4f03-7f7f-473a-922a-889a16fdc7fe/lib/python3.8/site-packages (from spacy&lt;3.1.0,&gt;=3.0.0-&gt;en-core-web-sm==3.0.0) (0.10.1)\n",
       "Collecting pydantic!=1.8,!=1.8.1,&lt;1.9.0,&gt;=1.7.4\n",
       "  Using cached pydantic-1.8.2-cp38-cp38-manylinux2014_x86_64.whl (13.7 MB)\n",
       "Requirement already satisfied: catalogue&lt;2.1.0,&gt;=2.0.4 in /local_disk0/.ephemeral_nfs/envs/pythonEnv-690c4f03-7f7f-473a-922a-889a16fdc7fe/lib/python3.8/site-packages (from spacy&lt;3.1.0,&gt;=3.0.0-&gt;en-core-web-sm==3.0.0) (2.0.8)\n",
       "Requirement already satisfied: preshed&lt;3.1.0,&gt;=3.0.2 in /local_disk0/.ephemeral_nfs/envs/pythonEnv-690c4f03-7f7f-473a-922a-889a16fdc7fe/lib/python3.8/site-packages (from spacy&lt;3.1.0,&gt;=3.0.0-&gt;en-core-web-sm==3.0.0) (3.0.8)\n",
       "Requirement already satisfied: requests&lt;3.0.0,&gt;=2.13.0 in /databricks/python3/lib/python3.8/site-packages (from spacy&lt;3.1.0,&gt;=3.0.0-&gt;en-core-web-sm==3.0.0) (2.25.1)\n",
       "Collecting typer&lt;0.4.0,&gt;=0.3.0\n",
       "  Using cached typer-0.3.2-py3-none-any.whl (21 kB)\n",
       "Requirement already satisfied: spacy-legacy&lt;3.1.0,&gt;=3.0.5 in /local_disk0/.ephemeral_nfs/envs/pythonEnv-690c4f03-7f7f-473a-922a-889a16fdc7fe/lib/python3.8/site-packages (from spacy&lt;3.1.0,&gt;=3.0.0-&gt;en-core-web-sm==3.0.0) (3.0.12)\n",
       "Collecting thinc&lt;8.1.0,&gt;=8.0.3\n",
       "  Using cached thinc-8.0.17-cp38-cp38-manylinux_2_17_x86_64.manylinux2014_x86_64.whl (671 kB)\n",
       "Requirement already satisfied: setuptools in /usr/local/lib/python3.8/dist-packages (from spacy&lt;3.1.0,&gt;=3.0.0-&gt;en-core-web-sm==3.0.0) (52.0.0)\n",
       "Requirement already satisfied: numpy&gt;=1.15.0 in /databricks/python3/lib/python3.8/site-packages (from spacy&lt;3.1.0,&gt;=3.0.0-&gt;en-core-web-sm==3.0.0) (1.20.1)\n",
       "Requirement already satisfied: blis&lt;0.8.0,&gt;=0.4.0 in /local_disk0/.ephemeral_nfs/envs/pythonEnv-690c4f03-7f7f-473a-922a-889a16fdc7fe/lib/python3.8/site-packages (from spacy&lt;3.1.0,&gt;=3.0.0-&gt;en-core-web-sm==3.0.0) (0.7.9)\n",
       "Requirement already satisfied: murmurhash&lt;1.1.0,&gt;=0.28.0 in /local_disk0/.ephemeral_nfs/envs/pythonEnv-690c4f03-7f7f-473a-922a-889a16fdc7fe/lib/python3.8/site-packages (from spacy&lt;3.1.0,&gt;=3.0.0-&gt;en-core-web-sm==3.0.0) (1.0.9)\n",
       "Requirement already satisfied: srsly&lt;3.0.0,&gt;=2.4.1 in /local_disk0/.ephemeral_nfs/envs/pythonEnv-690c4f03-7f7f-473a-922a-889a16fdc7fe/lib/python3.8/site-packages (from spacy&lt;3.1.0,&gt;=3.0.0-&gt;en-core-web-sm==3.0.0) (2.4.5)\n",
       "Requirement already satisfied: smart-open&lt;7.0.0,&gt;=5.2.1 in /local_disk0/.ephemeral_nfs/envs/pythonEnv-690c4f03-7f7f-473a-922a-889a16fdc7fe/lib/python3.8/site-packages (from spacy&lt;3.1.0,&gt;=3.0.0-&gt;en-core-web-sm==3.0.0) (6.3.0)\n",
       "Requirement already satisfied: jinja2 in /databricks/python3/lib/python3.8/site-packages (from spacy&lt;3.1.0,&gt;=3.0.0-&gt;en-core-web-sm==3.0.0) (2.11.3)\n",
       "Requirement already satisfied: packaging&gt;=20.0 in /databricks/python3/lib/python3.8/site-packages (from spacy&lt;3.1.0,&gt;=3.0.0-&gt;en-core-web-sm==3.0.0) (20.9)\n",
       "Requirement already satisfied: cymem&lt;2.1.0,&gt;=2.0.2 in /local_disk0/.ephemeral_nfs/envs/pythonEnv-690c4f03-7f7f-473a-922a-889a16fdc7fe/lib/python3.8/site-packages (from spacy&lt;3.1.0,&gt;=3.0.0-&gt;en-core-web-sm==3.0.0) (2.0.7)\n",
       "Collecting wasabi&lt;1.1.0,&gt;=0.8.1\n",
       "  Using cached wasabi-0.10.1-py3-none-any.whl (26 kB)\n",
       "Requirement already satisfied: pyparsing&gt;=2.0.2 in /databricks/python3/lib/python3.8/site-packages (from packaging&gt;=20.0-&gt;spacy&lt;3.1.0,&gt;=3.0.0-&gt;en-core-web-sm==3.0.0) (2.4.7)\n",
       "Requirement already satisfied: typing-extensions&gt;=3.7.4.3 in /local_disk0/.ephemeral_nfs/envs/pythonEnv-690c4f03-7f7f-473a-922a-889a16fdc7fe/lib/python3.8/site-packages (from pydantic!=1.8,!=1.8.1,&lt;1.9.0,&gt;=1.7.4-&gt;spacy&lt;3.1.0,&gt;=3.0.0-&gt;en-core-web-sm==3.0.0) (4.5.0)\n",
       "Requirement already satisfied: urllib3&lt;1.27,&gt;=1.21.1 in /databricks/python3/lib/python3.8/site-packages (from requests&lt;3.0.0,&gt;=2.13.0-&gt;spacy&lt;3.1.0,&gt;=3.0.0-&gt;en-core-web-sm==3.0.0) (1.25.11)\n",
       "Requirement already satisfied: certifi&gt;=2017.4.17 in /databricks/python3/lib/python3.8/site-packages (from requests&lt;3.0.0,&gt;=2.13.0-&gt;spacy&lt;3.1.0,&gt;=3.0.0-&gt;en-core-web-sm==3.0.0) (2020.12.5)\n",
       "Requirement already satisfied: chardet&lt;5,&gt;=3.0.2 in /databricks/python3/lib/python3.8/site-packages (from requests&lt;3.0.0,&gt;=2.13.0-&gt;spacy&lt;3.1.0,&gt;=3.0.0-&gt;en-core-web-sm==3.0.0) (4.0.0)\n",
       "Requirement already satisfied: idna&lt;3,&gt;=2.5 in /databricks/python3/lib/python3.8/site-packages (from requests&lt;3.0.0,&gt;=2.13.0-&gt;spacy&lt;3.1.0,&gt;=3.0.0-&gt;en-core-web-sm==3.0.0) (2.10)\n",
       "Collecting click&lt;7.2.0,&gt;=7.1.1\n",
       "  Using cached click-7.1.2-py2.py3-none-any.whl (82 kB)\n",
       "Requirement already satisfied: MarkupSafe&gt;=0.23 in /databricks/python3/lib/python3.8/site-packages (from jinja2-&gt;spacy&lt;3.1.0,&gt;=3.0.0-&gt;en-core-web-sm==3.0.0) (2.0.1)\n",
       "Building wheels for collected packages: en-core-web-sm\n",
       "  Building wheel for en-core-web-sm (setup.py): started\n",
       "  Building wheel for en-core-web-sm (setup.py): finished with status &#39;done&#39;\n",
       "  Created wheel for en-core-web-sm: filename=en_core_web_sm-3.0.0-py3-none-any.whl size=13704311 sha256=ca58e071aa621b241cbfb0f24dfff7827cc0b43d107103ca89ed2ed77721c869\n",
       "  Stored in directory: /root/.cache/pip/wheels/8b/21/c1/257748af7399fdaf1b2afc39c92fb839c436f42e67b656ff7e\n",
       "Successfully built en-core-web-sm\n",
       "Installing collected packages: click, wasabi, typer, pydantic, thinc, spacy, en-core-web-sm\n",
       "  Attempting uninstall: click\n",
       "    Found existing installation: click 8.1.3\n",
       "    Uninstalling click-8.1.3:\n",
       "      Successfully uninstalled click-8.1.3\n",
       "  Attempting uninstall: wasabi\n",
       "    Found existing installation: wasabi 1.1.1\n",
       "    Uninstalling wasabi-1.1.1:\n",
       "      Successfully uninstalled wasabi-1.1.1\n",
       "  Attempting uninstall: typer\n",
       "    Found existing installation: typer 0.7.0\n",
       "    Uninstalling typer-0.7.0:\n",
       "      Successfully uninstalled typer-0.7.0\n",
       "  Attempting uninstall: pydantic\n",
       "    Found existing installation: pydantic 1.10.5\n",
       "    Uninstalling pydantic-1.10.5:\n",
       "      Successfully uninstalled pydantic-1.10.5\n",
       "  Attempting uninstall: thinc\n",
       "    Found existing installation: thinc 8.1.7\n",
       "    Uninstalling thinc-8.1.7:\n",
       "      Successfully uninstalled thinc-8.1.7\n",
       "  Attempting uninstall: spacy\n",
       "    Found existing installation: spacy 3.5.0\n",
       "    Uninstalling spacy-3.5.0:\n",
       "      Successfully uninstalled spacy-3.5.0\n",
       "Successfully installed click-7.1.2 en-core-web-sm-3.0.0 pydantic-1.8.2 spacy-3.0.9 thinc-8.0.17 typer-0.3.2 wasabi-0.10.1\n",
       "Python interpreter will be restarted.\n",
       "</div>"
      ]
     },
     "metadata": {
      "application/vnd.databricks.v1+output": {
       "addedWidgets": {},
       "arguments": {},
       "data": "<div class=\"ansiout\">Python interpreter will be restarted.\nCollecting https://github.com/explosion/spacy-models/releases/download/en_core_web_sm-3.0.0/en_core_web_sm-3.0.0.tar.gz\n  Downloading https://github.com/explosion/spacy-models/releases/download/en_core_web_sm-3.0.0/en_core_web_sm-3.0.0.tar.gz (13.7 MB)\nCollecting spacy&lt;3.1.0,&gt;=3.0.0\n  Using cached spacy-3.0.9-cp38-cp38-manylinux_2_17_x86_64.manylinux2014_x86_64.whl (6.0 MB)\nRequirement already satisfied: tqdm&lt;5.0.0,&gt;=4.38.0 in /local_disk0/.ephemeral_nfs/envs/pythonEnv-690c4f03-7f7f-473a-922a-889a16fdc7fe/lib/python3.8/site-packages (from spacy&lt;3.1.0,&gt;=3.0.0-&gt;en-core-web-sm==3.0.0) (4.64.1)\nRequirement already satisfied: pathy&gt;=0.3.5 in /local_disk0/.ephemeral_nfs/envs/pythonEnv-690c4f03-7f7f-473a-922a-889a16fdc7fe/lib/python3.8/site-packages (from spacy&lt;3.1.0,&gt;=3.0.0-&gt;en-core-web-sm==3.0.0) (0.10.1)\nCollecting pydantic!=1.8,!=1.8.1,&lt;1.9.0,&gt;=1.7.4\n  Using cached pydantic-1.8.2-cp38-cp38-manylinux2014_x86_64.whl (13.7 MB)\nRequirement already satisfied: catalogue&lt;2.1.0,&gt;=2.0.4 in /local_disk0/.ephemeral_nfs/envs/pythonEnv-690c4f03-7f7f-473a-922a-889a16fdc7fe/lib/python3.8/site-packages (from spacy&lt;3.1.0,&gt;=3.0.0-&gt;en-core-web-sm==3.0.0) (2.0.8)\nRequirement already satisfied: preshed&lt;3.1.0,&gt;=3.0.2 in /local_disk0/.ephemeral_nfs/envs/pythonEnv-690c4f03-7f7f-473a-922a-889a16fdc7fe/lib/python3.8/site-packages (from spacy&lt;3.1.0,&gt;=3.0.0-&gt;en-core-web-sm==3.0.0) (3.0.8)\nRequirement already satisfied: requests&lt;3.0.0,&gt;=2.13.0 in /databricks/python3/lib/python3.8/site-packages (from spacy&lt;3.1.0,&gt;=3.0.0-&gt;en-core-web-sm==3.0.0) (2.25.1)\nCollecting typer&lt;0.4.0,&gt;=0.3.0\n  Using cached typer-0.3.2-py3-none-any.whl (21 kB)\nRequirement already satisfied: spacy-legacy&lt;3.1.0,&gt;=3.0.5 in /local_disk0/.ephemeral_nfs/envs/pythonEnv-690c4f03-7f7f-473a-922a-889a16fdc7fe/lib/python3.8/site-packages (from spacy&lt;3.1.0,&gt;=3.0.0-&gt;en-core-web-sm==3.0.0) (3.0.12)\nCollecting thinc&lt;8.1.0,&gt;=8.0.3\n  Using cached thinc-8.0.17-cp38-cp38-manylinux_2_17_x86_64.manylinux2014_x86_64.whl (671 kB)\nRequirement already satisfied: setuptools in /usr/local/lib/python3.8/dist-packages (from spacy&lt;3.1.0,&gt;=3.0.0-&gt;en-core-web-sm==3.0.0) (52.0.0)\nRequirement already satisfied: numpy&gt;=1.15.0 in /databricks/python3/lib/python3.8/site-packages (from spacy&lt;3.1.0,&gt;=3.0.0-&gt;en-core-web-sm==3.0.0) (1.20.1)\nRequirement already satisfied: blis&lt;0.8.0,&gt;=0.4.0 in /local_disk0/.ephemeral_nfs/envs/pythonEnv-690c4f03-7f7f-473a-922a-889a16fdc7fe/lib/python3.8/site-packages (from spacy&lt;3.1.0,&gt;=3.0.0-&gt;en-core-web-sm==3.0.0) (0.7.9)\nRequirement already satisfied: murmurhash&lt;1.1.0,&gt;=0.28.0 in /local_disk0/.ephemeral_nfs/envs/pythonEnv-690c4f03-7f7f-473a-922a-889a16fdc7fe/lib/python3.8/site-packages (from spacy&lt;3.1.0,&gt;=3.0.0-&gt;en-core-web-sm==3.0.0) (1.0.9)\nRequirement already satisfied: srsly&lt;3.0.0,&gt;=2.4.1 in /local_disk0/.ephemeral_nfs/envs/pythonEnv-690c4f03-7f7f-473a-922a-889a16fdc7fe/lib/python3.8/site-packages (from spacy&lt;3.1.0,&gt;=3.0.0-&gt;en-core-web-sm==3.0.0) (2.4.5)\nRequirement already satisfied: smart-open&lt;7.0.0,&gt;=5.2.1 in /local_disk0/.ephemeral_nfs/envs/pythonEnv-690c4f03-7f7f-473a-922a-889a16fdc7fe/lib/python3.8/site-packages (from spacy&lt;3.1.0,&gt;=3.0.0-&gt;en-core-web-sm==3.0.0) (6.3.0)\nRequirement already satisfied: jinja2 in /databricks/python3/lib/python3.8/site-packages (from spacy&lt;3.1.0,&gt;=3.0.0-&gt;en-core-web-sm==3.0.0) (2.11.3)\nRequirement already satisfied: packaging&gt;=20.0 in /databricks/python3/lib/python3.8/site-packages (from spacy&lt;3.1.0,&gt;=3.0.0-&gt;en-core-web-sm==3.0.0) (20.9)\nRequirement already satisfied: cymem&lt;2.1.0,&gt;=2.0.2 in /local_disk0/.ephemeral_nfs/envs/pythonEnv-690c4f03-7f7f-473a-922a-889a16fdc7fe/lib/python3.8/site-packages (from spacy&lt;3.1.0,&gt;=3.0.0-&gt;en-core-web-sm==3.0.0) (2.0.7)\nCollecting wasabi&lt;1.1.0,&gt;=0.8.1\n  Using cached wasabi-0.10.1-py3-none-any.whl (26 kB)\nRequirement already satisfied: pyparsing&gt;=2.0.2 in /databricks/python3/lib/python3.8/site-packages (from packaging&gt;=20.0-&gt;spacy&lt;3.1.0,&gt;=3.0.0-&gt;en-core-web-sm==3.0.0) (2.4.7)\nRequirement already satisfied: typing-extensions&gt;=3.7.4.3 in /local_disk0/.ephemeral_nfs/envs/pythonEnv-690c4f03-7f7f-473a-922a-889a16fdc7fe/lib/python3.8/site-packages (from pydantic!=1.8,!=1.8.1,&lt;1.9.0,&gt;=1.7.4-&gt;spacy&lt;3.1.0,&gt;=3.0.0-&gt;en-core-web-sm==3.0.0) (4.5.0)\nRequirement already satisfied: urllib3&lt;1.27,&gt;=1.21.1 in /databricks/python3/lib/python3.8/site-packages (from requests&lt;3.0.0,&gt;=2.13.0-&gt;spacy&lt;3.1.0,&gt;=3.0.0-&gt;en-core-web-sm==3.0.0) (1.25.11)\nRequirement already satisfied: certifi&gt;=2017.4.17 in /databricks/python3/lib/python3.8/site-packages (from requests&lt;3.0.0,&gt;=2.13.0-&gt;spacy&lt;3.1.0,&gt;=3.0.0-&gt;en-core-web-sm==3.0.0) (2020.12.5)\nRequirement already satisfied: chardet&lt;5,&gt;=3.0.2 in /databricks/python3/lib/python3.8/site-packages (from requests&lt;3.0.0,&gt;=2.13.0-&gt;spacy&lt;3.1.0,&gt;=3.0.0-&gt;en-core-web-sm==3.0.0) (4.0.0)\nRequirement already satisfied: idna&lt;3,&gt;=2.5 in /databricks/python3/lib/python3.8/site-packages (from requests&lt;3.0.0,&gt;=2.13.0-&gt;spacy&lt;3.1.0,&gt;=3.0.0-&gt;en-core-web-sm==3.0.0) (2.10)\nCollecting click&lt;7.2.0,&gt;=7.1.1\n  Using cached click-7.1.2-py2.py3-none-any.whl (82 kB)\nRequirement already satisfied: MarkupSafe&gt;=0.23 in /databricks/python3/lib/python3.8/site-packages (from jinja2-&gt;spacy&lt;3.1.0,&gt;=3.0.0-&gt;en-core-web-sm==3.0.0) (2.0.1)\nBuilding wheels for collected packages: en-core-web-sm\n  Building wheel for en-core-web-sm (setup.py): started\n  Building wheel for en-core-web-sm (setup.py): finished with status &#39;done&#39;\n  Created wheel for en-core-web-sm: filename=en_core_web_sm-3.0.0-py3-none-any.whl size=13704311 sha256=ca58e071aa621b241cbfb0f24dfff7827cc0b43d107103ca89ed2ed77721c869\n  Stored in directory: /root/.cache/pip/wheels/8b/21/c1/257748af7399fdaf1b2afc39c92fb839c436f42e67b656ff7e\nSuccessfully built en-core-web-sm\nInstalling collected packages: click, wasabi, typer, pydantic, thinc, spacy, en-core-web-sm\n  Attempting uninstall: click\n    Found existing installation: click 8.1.3\n    Uninstalling click-8.1.3:\n      Successfully uninstalled click-8.1.3\n  Attempting uninstall: wasabi\n    Found existing installation: wasabi 1.1.1\n    Uninstalling wasabi-1.1.1:\n      Successfully uninstalled wasabi-1.1.1\n  Attempting uninstall: typer\n    Found existing installation: typer 0.7.0\n    Uninstalling typer-0.7.0:\n      Successfully uninstalled typer-0.7.0\n  Attempting uninstall: pydantic\n    Found existing installation: pydantic 1.10.5\n    Uninstalling pydantic-1.10.5:\n      Successfully uninstalled pydantic-1.10.5\n  Attempting uninstall: thinc\n    Found existing installation: thinc 8.1.7\n    Uninstalling thinc-8.1.7:\n      Successfully uninstalled thinc-8.1.7\n  Attempting uninstall: spacy\n    Found existing installation: spacy 3.5.0\n    Uninstalling spacy-3.5.0:\n      Successfully uninstalled spacy-3.5.0\nSuccessfully installed click-7.1.2 en-core-web-sm-3.0.0 pydantic-1.8.2 spacy-3.0.9 thinc-8.0.17 typer-0.3.2 wasabi-0.10.1\nPython interpreter will be restarted.\n</div>",
       "datasetInfos": [],
       "metadata": {},
       "removedWidgets": [],
       "type": "html"
      }
     },
     "output_type": "display_data"
    }
   ],
   "source": [
    "pip install \"https://github.com/explosion/spacy-models/releases/download/en_core_web_sm-3.0.0/en_core_web_sm-3.0.0.tar.gz\""
   ]
  },
  {
   "cell_type": "code",
   "execution_count": 0,
   "metadata": {
    "application/vnd.databricks.v1+cell": {
     "cellMetadata": {},
     "inputWidgets": {},
     "nuid": "0dbef6ea-c2a2-436a-ae94-70a481a5dadf",
     "showTitle": false,
     "title": ""
    }
   },
   "outputs": [
    {
     "data": {
      "text/html": [
       "<style scoped>\n",
       "  .ansiout {\n",
       "    display: block;\n",
       "    unicode-bidi: embed;\n",
       "    white-space: pre-wrap;\n",
       "    word-wrap: break-word;\n",
       "    word-break: break-all;\n",
       "    font-family: \"Source Code Pro\", \"Menlo\", monospace;;\n",
       "    font-size: 13px;\n",
       "    color: #555;\n",
       "    margin-left: 4px;\n",
       "    line-height: 19px;\n",
       "  }\n",
       "</style>\n",
       "<div class=\"ansiout\"></div>"
      ]
     },
     "metadata": {
      "application/vnd.databricks.v1+output": {
       "addedWidgets": {},
       "arguments": {},
       "data": "<div class=\"ansiout\"></div>",
       "datasetInfos": [],
       "metadata": {},
       "removedWidgets": [],
       "type": "html"
      }
     },
     "output_type": "display_data"
    }
   ],
   "source": [
    "# Perform standard imports:\n",
    "import spacy\n",
    "nlp = spacy.load('en_core_web_sm')"
   ]
  },
  {
   "cell_type": "code",
   "execution_count": 0,
   "metadata": {
    "application/vnd.databricks.v1+cell": {
     "cellMetadata": {},
     "inputWidgets": {},
     "nuid": "28cac1b8-4d4c-48ef-b835-366418c0a604",
     "showTitle": false,
     "title": ""
    }
   },
   "outputs": [
    {
     "data": {
      "text/html": [
       "<style scoped>\n",
       "  .ansiout {\n",
       "    display: block;\n",
       "    unicode-bidi: embed;\n",
       "    white-space: pre-wrap;\n",
       "    word-wrap: break-word;\n",
       "    word-break: break-all;\n",
       "    font-family: \"Source Code Pro\", \"Menlo\", monospace;;\n",
       "    font-size: 13px;\n",
       "    color: #555;\n",
       "    margin-left: 4px;\n",
       "    line-height: 19px;\n",
       "  }\n",
       "</style>\n",
       "<div class=\"ansiout\">{&#39;was&#39;, &#39;how&#39;, &#39;for&#39;, &#39;could&#39;, &#39;please&#39;, &#39;then&#39;, &#39;whereupon&#39;, &#39;so&#39;, &#39;as&#39;, &#39;any&#39;, &#39;used&#39;, &#39;why&#39;, &#39;several&#39;, &#39;six&#39;, &#39;by&#39;, &#39;hence&#39;, &#39;yourself&#39;, &#39;did&#39;, &#39;whose&#39;, &#39;doing&#39;, &#39;n’t&#39;, &#39;show&#39;, &#39;her&#39;, &#39;yourselves&#39;, &#39;nothing&#39;, &#39;not&#39;, &#39;‘ve&#39;, &#39;thereby&#39;, &#39;forty&#39;, &#39;each&#39;, &#39;whether&#39;, &#39;serious&#39;, &#39;perhaps&#39;, &#39;me&#39;, &#39;nevertheless&#39;, &#39;rather&#39;, &#39;elsewhere&#39;, &#39;former&#39;, &#39;seemed&#39;, &#39;up&#39;, &#39;than&#39;, &#39;except&#39;, &#39;via&#39;, &#39;can&#39;, &#39;everything&#39;, &#39;already&#39;, &#39;along&#39;, &#39;while&#39;, &#39;anyone&#39;, &#39;our&#39;, &#39;thus&#39;, &#39;must&#39;, &#39;either&#39;, &#39;move&#39;, &#39;’ve&#39;, &#39;between&#39;, &#39;ever&#39;, &#39;does&#39;, &#39;whereafter&#39;, &#39;twelve&#39;, &#39;ca&#39;, &#39;in&#39;, &#39;again&#39;, &#39;itself&#39;, &#39;themselves&#39;, &#39;until&#39;, &#39;whence&#39;, &#39;she&#39;, &#39;no&#39;, &#39;say&#39;, &#39;us&#39;, &#39;amongst&#39;, &#39;were&#39;, &#39;whole&#39;, &#39;nine&#39;, &#39;everywhere&#39;, &#39;under&#39;, &#39;an&#39;, &#39;therein&#39;, &#39;go&#39;, &#39;would&#39;, &#39;beyond&#39;, &#39;become&#39;, &#39;sixty&#39;, &#39;myself&#39;, &#39;they&#39;, &#39;about&#39;, &#39;since&#39;, &#39;put&#39;, &#39;amount&#39;, &#39;whatever&#39;, &#39;whereby&#39;, &#39;though&#39;, &#39;thru&#39;, &#39;a&#39;, &#34;&#39;ll&#34;, &#39;never&#39;, &#39;their&#39;, &#39;even&#39;, &#39;ours&#39;, &#39;twenty&#39;, &#39;am&#39;, &#39;someone&#39;, &#39;that&#39;, &#34;&#39;s&#34;, &#39;last&#39;, &#39;to&#39;, &#39;becoming&#39;, &#39;upon&#39;, &#39;one&#39;, &#39;this&#39;, &#39;meanwhile&#39;, &#39;more&#39;, &#39;else&#39;, &#39;himself&#39;, &#39;moreover&#39;, &#39;bottom&#39;, &#39;well&#39;, &#39;became&#39;, &#39;same&#39;, &#39;alone&#39;, &#39;‘d&#39;, &#39;these&#39;, &#39;before&#39;, &#39;with&#39;, &#39;but&#39;, &#39;because&#39;, &#39;hers&#39;, &#39;really&#39;, &#39;thereupon&#39;, &#39;third&#39;, &#39;always&#39;, &#39;some&#39;, &#34;&#39;ve&#34;, &#39;hereby&#39;, &#39;his&#39;, &#39;above&#39;, &#39;part&#39;, &#39;few&#39;, &#39;formerly&#39;, &#34;&#39;d&#34;, &#39;however&#39;, &#39;’d&#39;, &#39;seeming&#39;, &#39;somewhere&#39;, &#39;him&#39;, &#39;neither&#39;, &#39;do&#39;, &#39;whereas&#39;, &#39;besides&#39;, &#39;wherein&#39;, &#39;next&#39;, &#39;throughout&#39;, &#39;against&#39;, &#39;is&#39;, &#39;unless&#39;, &#39;yet&#39;, &#39;therefore&#39;, &#39;many&#39;, &#39;eight&#39;, &#39;still&#39;, &#39;name&#39;, &#39;nobody&#39;, &#39;mine&#39;, &#39;top&#39;, &#39;somehow&#39;, &#39;you&#39;, &#39;been&#39;, &#39;fifty&#39;, &#39;sometimes&#39;, &#39;where&#39;, &#39;get&#39;, &#39;hereafter&#39;, &#39;three&#39;, &#39;quite&#39;, &#39;towards&#39;, &#39;made&#39;, &#39;may&#39;, &#39;side&#39;, &#39;thereafter&#39;, &#39;beside&#39;, &#39;noone&#39;, &#39;none&#39;, &#39;be&#39;, &#39;anywhere&#39;, &#39;further&#39;, &#39;‘ll&#39;, &#39;toward&#39;, &#39;due&#39;, &#39;my&#39;, &#39;what&#39;, &#39;beforehand&#39;, &#39;there&#39;, &#39;thence&#39;, &#39;together&#39;, &#39;four&#39;, &#39;among&#39;, &#39;at&#39;, &#34;n&#39;t&#34;, &#39;such&#39;, &#39;using&#39;, &#39;something&#39;, &#39;ourselves&#39;, &#39;keep&#39;, &#39;another&#39;, &#39;onto&#39;, &#39;latterly&#39;, &#39;‘s&#39;, &#39;had&#39;, &#39;or&#39;, &#39;only&#39;, &#39;hundred&#39;, &#39;whenever&#39;, &#39;also&#39;, &#39;see&#39;, &#39;‘re&#39;, &#39;whither&#39;, &#39;less&#39;, &#39;much&#39;, &#39;others&#39;, &#39;should&#39;, &#39;although&#39;, &#39;around&#39;, &#39;sometime&#39;, &#39;seem&#39;, &#39;of&#39;, &#39;down&#39;, &#39;five&#39;, &#39;them&#39;, &#39;on&#39;, &#39;‘m&#39;, &#39;yours&#39;, &#39;very&#39;, &#39;various&#39;, &#39;empty&#39;, &#39;through&#39;, &#39;wherever&#39;, &#39;most&#39;, &#39;cannot&#39;, &#39;here&#39;, &#39;namely&#39;, &#39;per&#39;, &#39;mostly&#39;, &#39;during&#39;, &#39;whoever&#39;, &#39;out&#39;, &#39;we&#39;, &#39;’re&#39;, &#39;both&#39;, &#39;re&#39;, &#39;ten&#39;, &#39;anyhow&#39;, &#39;after&#39;, &#39;back&#39;, &#39;everyone&#39;, &#39;done&#39;, &#39;often&#39;, &#39;call&#39;, &#39;latter&#39;, &#39;might&#39;, &#39;seems&#39;, &#39;now&#39;, &#39;take&#39;, &#39;fifteen&#39;, &#39;every&#39;, &#39;own&#39;, &#39;’m&#39;, &#39;becomes&#39;, &#39;all&#39;, &#39;make&#39;, &#39;which&#39;, &#39;full&#39;, &#39;indeed&#39;, &#39;nor&#39;, &#39;give&#39;, &#39;other&#39;, &#39;almost&#39;, &#39;hereupon&#39;, &#39;who&#39;, &#39;nowhere&#39;, &#39;’s&#39;, &#34;&#39;re&#34;, &#39;too&#39;, &#39;he&#39;, &#39;i&#39;, &#39;its&#39;, &#39;those&#39;, &#39;the&#39;, &#39;it&#39;, &#39;first&#39;, &#39;herein&#39;, &#39;’ll&#39;, &#39;just&#39;, &#39;over&#39;, &#39;have&#39;, &#39;and&#39;, &#34;&#39;m&#34;, &#39;when&#39;, &#39;eleven&#39;, &#39;below&#39;, &#39;if&#39;, &#39;behind&#39;, &#39;whom&#39;, &#39;are&#39;, &#39;will&#39;, &#39;from&#39;, &#39;into&#39;, &#39;enough&#39;, &#39;least&#39;, &#39;your&#39;, &#39;anyway&#39;, &#39;n‘t&#39;, &#39;herself&#39;, &#39;has&#39;, &#39;within&#39;, &#39;once&#39;, &#39;front&#39;, &#39;anything&#39;, &#39;afterwards&#39;, &#39;being&#39;, &#39;off&#39;, &#39;across&#39;, &#39;two&#39;, &#39;otherwise&#39;, &#39;regarding&#39;, &#39;without&#39;}\n",
       "</div>"
      ]
     },
     "metadata": {
      "application/vnd.databricks.v1+output": {
       "addedWidgets": {},
       "arguments": {},
       "data": "<div class=\"ansiout\">{&#39;was&#39;, &#39;how&#39;, &#39;for&#39;, &#39;could&#39;, &#39;please&#39;, &#39;then&#39;, &#39;whereupon&#39;, &#39;so&#39;, &#39;as&#39;, &#39;any&#39;, &#39;used&#39;, &#39;why&#39;, &#39;several&#39;, &#39;six&#39;, &#39;by&#39;, &#39;hence&#39;, &#39;yourself&#39;, &#39;did&#39;, &#39;whose&#39;, &#39;doing&#39;, &#39;n’t&#39;, &#39;show&#39;, &#39;her&#39;, &#39;yourselves&#39;, &#39;nothing&#39;, &#39;not&#39;, &#39;‘ve&#39;, &#39;thereby&#39;, &#39;forty&#39;, &#39;each&#39;, &#39;whether&#39;, &#39;serious&#39;, &#39;perhaps&#39;, &#39;me&#39;, &#39;nevertheless&#39;, &#39;rather&#39;, &#39;elsewhere&#39;, &#39;former&#39;, &#39;seemed&#39;, &#39;up&#39;, &#39;than&#39;, &#39;except&#39;, &#39;via&#39;, &#39;can&#39;, &#39;everything&#39;, &#39;already&#39;, &#39;along&#39;, &#39;while&#39;, &#39;anyone&#39;, &#39;our&#39;, &#39;thus&#39;, &#39;must&#39;, &#39;either&#39;, &#39;move&#39;, &#39;’ve&#39;, &#39;between&#39;, &#39;ever&#39;, &#39;does&#39;, &#39;whereafter&#39;, &#39;twelve&#39;, &#39;ca&#39;, &#39;in&#39;, &#39;again&#39;, &#39;itself&#39;, &#39;themselves&#39;, &#39;until&#39;, &#39;whence&#39;, &#39;she&#39;, &#39;no&#39;, &#39;say&#39;, &#39;us&#39;, &#39;amongst&#39;, &#39;were&#39;, &#39;whole&#39;, &#39;nine&#39;, &#39;everywhere&#39;, &#39;under&#39;, &#39;an&#39;, &#39;therein&#39;, &#39;go&#39;, &#39;would&#39;, &#39;beyond&#39;, &#39;become&#39;, &#39;sixty&#39;, &#39;myself&#39;, &#39;they&#39;, &#39;about&#39;, &#39;since&#39;, &#39;put&#39;, &#39;amount&#39;, &#39;whatever&#39;, &#39;whereby&#39;, &#39;though&#39;, &#39;thru&#39;, &#39;a&#39;, &#34;&#39;ll&#34;, &#39;never&#39;, &#39;their&#39;, &#39;even&#39;, &#39;ours&#39;, &#39;twenty&#39;, &#39;am&#39;, &#39;someone&#39;, &#39;that&#39;, &#34;&#39;s&#34;, &#39;last&#39;, &#39;to&#39;, &#39;becoming&#39;, &#39;upon&#39;, &#39;one&#39;, &#39;this&#39;, &#39;meanwhile&#39;, &#39;more&#39;, &#39;else&#39;, &#39;himself&#39;, &#39;moreover&#39;, &#39;bottom&#39;, &#39;well&#39;, &#39;became&#39;, &#39;same&#39;, &#39;alone&#39;, &#39;‘d&#39;, &#39;these&#39;, &#39;before&#39;, &#39;with&#39;, &#39;but&#39;, &#39;because&#39;, &#39;hers&#39;, &#39;really&#39;, &#39;thereupon&#39;, &#39;third&#39;, &#39;always&#39;, &#39;some&#39;, &#34;&#39;ve&#34;, &#39;hereby&#39;, &#39;his&#39;, &#39;above&#39;, &#39;part&#39;, &#39;few&#39;, &#39;formerly&#39;, &#34;&#39;d&#34;, &#39;however&#39;, &#39;’d&#39;, &#39;seeming&#39;, &#39;somewhere&#39;, &#39;him&#39;, &#39;neither&#39;, &#39;do&#39;, &#39;whereas&#39;, &#39;besides&#39;, &#39;wherein&#39;, &#39;next&#39;, &#39;throughout&#39;, &#39;against&#39;, &#39;is&#39;, &#39;unless&#39;, &#39;yet&#39;, &#39;therefore&#39;, &#39;many&#39;, &#39;eight&#39;, &#39;still&#39;, &#39;name&#39;, &#39;nobody&#39;, &#39;mine&#39;, &#39;top&#39;, &#39;somehow&#39;, &#39;you&#39;, &#39;been&#39;, &#39;fifty&#39;, &#39;sometimes&#39;, &#39;where&#39;, &#39;get&#39;, &#39;hereafter&#39;, &#39;three&#39;, &#39;quite&#39;, &#39;towards&#39;, &#39;made&#39;, &#39;may&#39;, &#39;side&#39;, &#39;thereafter&#39;, &#39;beside&#39;, &#39;noone&#39;, &#39;none&#39;, &#39;be&#39;, &#39;anywhere&#39;, &#39;further&#39;, &#39;‘ll&#39;, &#39;toward&#39;, &#39;due&#39;, &#39;my&#39;, &#39;what&#39;, &#39;beforehand&#39;, &#39;there&#39;, &#39;thence&#39;, &#39;together&#39;, &#39;four&#39;, &#39;among&#39;, &#39;at&#39;, &#34;n&#39;t&#34;, &#39;such&#39;, &#39;using&#39;, &#39;something&#39;, &#39;ourselves&#39;, &#39;keep&#39;, &#39;another&#39;, &#39;onto&#39;, &#39;latterly&#39;, &#39;‘s&#39;, &#39;had&#39;, &#39;or&#39;, &#39;only&#39;, &#39;hundred&#39;, &#39;whenever&#39;, &#39;also&#39;, &#39;see&#39;, &#39;‘re&#39;, &#39;whither&#39;, &#39;less&#39;, &#39;much&#39;, &#39;others&#39;, &#39;should&#39;, &#39;although&#39;, &#39;around&#39;, &#39;sometime&#39;, &#39;seem&#39;, &#39;of&#39;, &#39;down&#39;, &#39;five&#39;, &#39;them&#39;, &#39;on&#39;, &#39;‘m&#39;, &#39;yours&#39;, &#39;very&#39;, &#39;various&#39;, &#39;empty&#39;, &#39;through&#39;, &#39;wherever&#39;, &#39;most&#39;, &#39;cannot&#39;, &#39;here&#39;, &#39;namely&#39;, &#39;per&#39;, &#39;mostly&#39;, &#39;during&#39;, &#39;whoever&#39;, &#39;out&#39;, &#39;we&#39;, &#39;’re&#39;, &#39;both&#39;, &#39;re&#39;, &#39;ten&#39;, &#39;anyhow&#39;, &#39;after&#39;, &#39;back&#39;, &#39;everyone&#39;, &#39;done&#39;, &#39;often&#39;, &#39;call&#39;, &#39;latter&#39;, &#39;might&#39;, &#39;seems&#39;, &#39;now&#39;, &#39;take&#39;, &#39;fifteen&#39;, &#39;every&#39;, &#39;own&#39;, &#39;’m&#39;, &#39;becomes&#39;, &#39;all&#39;, &#39;make&#39;, &#39;which&#39;, &#39;full&#39;, &#39;indeed&#39;, &#39;nor&#39;, &#39;give&#39;, &#39;other&#39;, &#39;almost&#39;, &#39;hereupon&#39;, &#39;who&#39;, &#39;nowhere&#39;, &#39;’s&#39;, &#34;&#39;re&#34;, &#39;too&#39;, &#39;he&#39;, &#39;i&#39;, &#39;its&#39;, &#39;those&#39;, &#39;the&#39;, &#39;it&#39;, &#39;first&#39;, &#39;herein&#39;, &#39;’ll&#39;, &#39;just&#39;, &#39;over&#39;, &#39;have&#39;, &#39;and&#39;, &#34;&#39;m&#34;, &#39;when&#39;, &#39;eleven&#39;, &#39;below&#39;, &#39;if&#39;, &#39;behind&#39;, &#39;whom&#39;, &#39;are&#39;, &#39;will&#39;, &#39;from&#39;, &#39;into&#39;, &#39;enough&#39;, &#39;least&#39;, &#39;your&#39;, &#39;anyway&#39;, &#39;n‘t&#39;, &#39;herself&#39;, &#39;has&#39;, &#39;within&#39;, &#39;once&#39;, &#39;front&#39;, &#39;anything&#39;, &#39;afterwards&#39;, &#39;being&#39;, &#39;off&#39;, &#39;across&#39;, &#39;two&#39;, &#39;otherwise&#39;, &#39;regarding&#39;, &#39;without&#39;}\n</div>",
       "datasetInfos": [],
       "metadata": {},
       "removedWidgets": [],
       "type": "html"
      }
     },
     "output_type": "display_data"
    }
   ],
   "source": [
    "# Print the set of spaCy's default stop words (remember that sets are unordered):\n",
    "print(nlp.Defaults.stop_words)"
   ]
  },
  {
   "cell_type": "code",
   "execution_count": 0,
   "metadata": {
    "application/vnd.databricks.v1+cell": {
     "cellMetadata": {},
     "inputWidgets": {},
     "nuid": "413d8826-689b-4b10-a8bd-38e64bf58320",
     "showTitle": false,
     "title": ""
    }
   },
   "outputs": [
    {
     "data": {
      "text/html": [
       "<style scoped>\n",
       "  .ansiout {\n",
       "    display: block;\n",
       "    unicode-bidi: embed;\n",
       "    white-space: pre-wrap;\n",
       "    word-wrap: break-word;\n",
       "    word-break: break-all;\n",
       "    font-family: \"Source Code Pro\", \"Menlo\", monospace;;\n",
       "    font-size: 13px;\n",
       "    color: #555;\n",
       "    margin-left: 4px;\n",
       "    line-height: 19px;\n",
       "  }\n",
       "</style>\n",
       "<div class=\"ansiout\">Out[3]: 326</div>"
      ]
     },
     "metadata": {
      "application/vnd.databricks.v1+output": {
       "addedWidgets": {},
       "arguments": {},
       "data": "<div class=\"ansiout\">Out[3]: 326</div>",
       "datasetInfos": [],
       "metadata": {},
       "removedWidgets": [],
       "type": "html"
      }
     },
     "output_type": "display_data"
    }
   ],
   "source": [
    "len(nlp.Defaults.stop_words)"
   ]
  },
  {
   "cell_type": "markdown",
   "metadata": {
    "application/vnd.databricks.v1+cell": {
     "cellMetadata": {},
     "inputWidgets": {},
     "nuid": "63308797-cc94-4618-b7c0-84fc96488d36",
     "showTitle": false,
     "title": ""
    }
   },
   "source": [
    "## To see if a word is a stop word"
   ]
  },
  {
   "cell_type": "code",
   "execution_count": 0,
   "metadata": {
    "application/vnd.databricks.v1+cell": {
     "cellMetadata": {},
     "inputWidgets": {},
     "nuid": "654cbddd-8c58-4a29-9bce-7b30dce33d7e",
     "showTitle": false,
     "title": ""
    }
   },
   "outputs": [
    {
     "data": {
      "text/html": [
       "<style scoped>\n",
       "  .ansiout {\n",
       "    display: block;\n",
       "    unicode-bidi: embed;\n",
       "    white-space: pre-wrap;\n",
       "    word-wrap: break-word;\n",
       "    word-break: break-all;\n",
       "    font-family: \"Source Code Pro\", \"Menlo\", monospace;;\n",
       "    font-size: 13px;\n",
       "    color: #555;\n",
       "    margin-left: 4px;\n",
       "    line-height: 19px;\n",
       "  }\n",
       "</style>\n",
       "<div class=\"ansiout\">Out[4]: True</div>"
      ]
     },
     "metadata": {
      "application/vnd.databricks.v1+output": {
       "addedWidgets": {},
       "arguments": {},
       "data": "<div class=\"ansiout\">Out[4]: True</div>",
       "datasetInfos": [],
       "metadata": {},
       "removedWidgets": [],
       "type": "html"
      }
     },
     "output_type": "display_data"
    }
   ],
   "source": [
    "nlp.vocab['myself'].is_stop"
   ]
  },
  {
   "cell_type": "code",
   "execution_count": 0,
   "metadata": {
    "application/vnd.databricks.v1+cell": {
     "cellMetadata": {},
     "inputWidgets": {},
     "nuid": "6b505e1c-70e6-4203-a933-5e675dcf3846",
     "showTitle": false,
     "title": ""
    }
   },
   "outputs": [
    {
     "data": {
      "text/html": [
       "<style scoped>\n",
       "  .ansiout {\n",
       "    display: block;\n",
       "    unicode-bidi: embed;\n",
       "    white-space: pre-wrap;\n",
       "    word-wrap: break-word;\n",
       "    word-break: break-all;\n",
       "    font-family: \"Source Code Pro\", \"Menlo\", monospace;;\n",
       "    font-size: 13px;\n",
       "    color: #555;\n",
       "    margin-left: 4px;\n",
       "    line-height: 19px;\n",
       "  }\n",
       "</style>\n",
       "<div class=\"ansiout\">Out[5]: False</div>"
      ]
     },
     "metadata": {
      "application/vnd.databricks.v1+output": {
       "addedWidgets": {},
       "arguments": {},
       "data": "<div class=\"ansiout\">Out[5]: False</div>",
       "datasetInfos": [],
       "metadata": {},
       "removedWidgets": [],
       "type": "html"
      }
     },
     "output_type": "display_data"
    }
   ],
   "source": [
    "nlp.vocab['mystery'].is_stop"
   ]
  },
  {
   "cell_type": "markdown",
   "metadata": {
    "application/vnd.databricks.v1+cell": {
     "cellMetadata": {},
     "inputWidgets": {},
     "nuid": "4b12de4c-0ce9-4681-bcc6-010224ef32d3",
     "showTitle": false,
     "title": ""
    }
   },
   "source": [
    "## To add a stop word\n",
    "There may be times when you wish to add a stop word to the default set. Perhaps you decide that `'btw'` (common shorthand for \"by the way\") should be considered a stop word."
   ]
  },
  {
   "cell_type": "code",
   "execution_count": 0,
   "metadata": {
    "application/vnd.databricks.v1+cell": {
     "cellMetadata": {},
     "inputWidgets": {},
     "nuid": "9dd0c7c4-e0b0-4833-bf2e-2ea00e01adbf",
     "showTitle": false,
     "title": ""
    }
   },
   "outputs": [
    {
     "data": {
      "text/html": [
       "<style scoped>\n",
       "  .ansiout {\n",
       "    display: block;\n",
       "    unicode-bidi: embed;\n",
       "    white-space: pre-wrap;\n",
       "    word-wrap: break-word;\n",
       "    word-break: break-all;\n",
       "    font-family: \"Source Code Pro\", \"Menlo\", monospace;;\n",
       "    font-size: 13px;\n",
       "    color: #555;\n",
       "    margin-left: 4px;\n",
       "    line-height: 19px;\n",
       "  }\n",
       "</style>\n",
       "<div class=\"ansiout\"></div>"
      ]
     },
     "metadata": {
      "application/vnd.databricks.v1+output": {
       "addedWidgets": {},
       "arguments": {},
       "data": "<div class=\"ansiout\"></div>",
       "datasetInfos": [],
       "metadata": {},
       "removedWidgets": [],
       "type": "html"
      }
     },
     "output_type": "display_data"
    }
   ],
   "source": [
    "# Add the word to the set of stop words. Use lowercase!\n",
    "nlp.Defaults.stop_words.add('btw')\n",
    "\n",
    "# Set the stop_word tag on the lexeme\n",
    "nlp.vocab['btw'].is_stop = True"
   ]
  },
  {
   "cell_type": "code",
   "execution_count": 0,
   "metadata": {
    "application/vnd.databricks.v1+cell": {
     "cellMetadata": {},
     "inputWidgets": {},
     "nuid": "09f53411-80d7-4348-9959-0f3774d0e71d",
     "showTitle": false,
     "title": ""
    }
   },
   "outputs": [
    {
     "data": {
      "text/html": [
       "<style scoped>\n",
       "  .ansiout {\n",
       "    display: block;\n",
       "    unicode-bidi: embed;\n",
       "    white-space: pre-wrap;\n",
       "    word-wrap: break-word;\n",
       "    word-break: break-all;\n",
       "    font-family: \"Source Code Pro\", \"Menlo\", monospace;;\n",
       "    font-size: 13px;\n",
       "    color: #555;\n",
       "    margin-left: 4px;\n",
       "    line-height: 19px;\n",
       "  }\n",
       "</style>\n",
       "<div class=\"ansiout\">Out[7]: 327</div>"
      ]
     },
     "metadata": {
      "application/vnd.databricks.v1+output": {
       "addedWidgets": {},
       "arguments": {},
       "data": "<div class=\"ansiout\">Out[7]: 327</div>",
       "datasetInfos": [],
       "metadata": {},
       "removedWidgets": [],
       "type": "html"
      }
     },
     "output_type": "display_data"
    }
   ],
   "source": [
    "len(nlp.Defaults.stop_words)"
   ]
  },
  {
   "cell_type": "code",
   "execution_count": 0,
   "metadata": {
    "application/vnd.databricks.v1+cell": {
     "cellMetadata": {},
     "inputWidgets": {},
     "nuid": "bdad2659-f5c4-4f32-8de3-97bc1396f554",
     "showTitle": false,
     "title": ""
    }
   },
   "outputs": [
    {
     "data": {
      "text/html": [
       "<style scoped>\n",
       "  .ansiout {\n",
       "    display: block;\n",
       "    unicode-bidi: embed;\n",
       "    white-space: pre-wrap;\n",
       "    word-wrap: break-word;\n",
       "    word-break: break-all;\n",
       "    font-family: \"Source Code Pro\", \"Menlo\", monospace;;\n",
       "    font-size: 13px;\n",
       "    color: #555;\n",
       "    margin-left: 4px;\n",
       "    line-height: 19px;\n",
       "  }\n",
       "</style>\n",
       "<div class=\"ansiout\">Out[8]: True</div>"
      ]
     },
     "metadata": {
      "application/vnd.databricks.v1+output": {
       "addedWidgets": {},
       "arguments": {},
       "data": "<div class=\"ansiout\">Out[8]: True</div>",
       "datasetInfos": [],
       "metadata": {},
       "removedWidgets": [],
       "type": "html"
      }
     },
     "output_type": "display_data"
    }
   ],
   "source": [
    "nlp.vocab['btw'].is_stop"
   ]
  },
  {
   "cell_type": "markdown",
   "metadata": {
    "application/vnd.databricks.v1+cell": {
     "cellMetadata": {},
     "inputWidgets": {},
     "nuid": "7c4610c2-966e-44a7-b27a-b6b86f62f9b6",
     "showTitle": false,
     "title": ""
    }
   },
   "source": [
    "<font color=green>When adding stop words, always use lowercase. Lexemes are converted to lowercase before being added to **vocab**.</font>"
   ]
  },
  {
   "cell_type": "markdown",
   "metadata": {
    "application/vnd.databricks.v1+cell": {
     "cellMetadata": {},
     "inputWidgets": {},
     "nuid": "70ebcf52-2daa-4cbc-a416-49057e72f765",
     "showTitle": false,
     "title": ""
    }
   },
   "source": [
    "## To remove a stop word\n",
    "Alternatively, you may decide that `'beyond'` should not be considered a stop word."
   ]
  },
  {
   "cell_type": "code",
   "execution_count": 0,
   "metadata": {
    "application/vnd.databricks.v1+cell": {
     "cellMetadata": {},
     "inputWidgets": {},
     "nuid": "48514615-8b70-4345-bdf8-3e9cd44f5135",
     "showTitle": false,
     "title": ""
    }
   },
   "outputs": [
    {
     "data": {
      "text/html": [
       "<style scoped>\n",
       "  .ansiout {\n",
       "    display: block;\n",
       "    unicode-bidi: embed;\n",
       "    white-space: pre-wrap;\n",
       "    word-wrap: break-word;\n",
       "    word-break: break-all;\n",
       "    font-family: \"Source Code Pro\", \"Menlo\", monospace;;\n",
       "    font-size: 13px;\n",
       "    color: #555;\n",
       "    margin-left: 4px;\n",
       "    line-height: 19px;\n",
       "  }\n",
       "</style>\n",
       "<div class=\"ansiout\"></div>"
      ]
     },
     "metadata": {
      "application/vnd.databricks.v1+output": {
       "addedWidgets": {},
       "arguments": {},
       "data": "<div class=\"ansiout\"></div>",
       "datasetInfos": [],
       "metadata": {},
       "removedWidgets": [],
       "type": "html"
      }
     },
     "output_type": "display_data"
    }
   ],
   "source": [
    "# Remove the word from the set of stop words\n",
    "nlp.Defaults.stop_words.remove('beyond')\n",
    "\n",
    "# Remove the stop_word tag from the lexeme\n",
    "nlp.vocab['beyond'].is_stop = False"
   ]
  },
  {
   "cell_type": "code",
   "execution_count": 0,
   "metadata": {
    "application/vnd.databricks.v1+cell": {
     "cellMetadata": {},
     "inputWidgets": {},
     "nuid": "35dacc16-2cd4-4c5d-9159-e24cc5e31129",
     "showTitle": false,
     "title": ""
    }
   },
   "outputs": [
    {
     "data": {
      "text/html": [
       "<style scoped>\n",
       "  .ansiout {\n",
       "    display: block;\n",
       "    unicode-bidi: embed;\n",
       "    white-space: pre-wrap;\n",
       "    word-wrap: break-word;\n",
       "    word-break: break-all;\n",
       "    font-family: \"Source Code Pro\", \"Menlo\", monospace;;\n",
       "    font-size: 13px;\n",
       "    color: #555;\n",
       "    margin-left: 4px;\n",
       "    line-height: 19px;\n",
       "  }\n",
       "</style>\n",
       "<div class=\"ansiout\">Out[10]: 326</div>"
      ]
     },
     "metadata": {
      "application/vnd.databricks.v1+output": {
       "addedWidgets": {},
       "arguments": {},
       "data": "<div class=\"ansiout\">Out[10]: 326</div>",
       "datasetInfos": [],
       "metadata": {},
       "removedWidgets": [],
       "type": "html"
      }
     },
     "output_type": "display_data"
    }
   ],
   "source": [
    "len(nlp.Defaults.stop_words)"
   ]
  },
  {
   "cell_type": "code",
   "execution_count": 0,
   "metadata": {
    "application/vnd.databricks.v1+cell": {
     "cellMetadata": {},
     "inputWidgets": {},
     "nuid": "bdde9d91-3cdc-478f-991a-607626a40d91",
     "showTitle": false,
     "title": ""
    }
   },
   "outputs": [
    {
     "data": {
      "text/html": [
       "<style scoped>\n",
       "  .ansiout {\n",
       "    display: block;\n",
       "    unicode-bidi: embed;\n",
       "    white-space: pre-wrap;\n",
       "    word-wrap: break-word;\n",
       "    word-break: break-all;\n",
       "    font-family: \"Source Code Pro\", \"Menlo\", monospace;;\n",
       "    font-size: 13px;\n",
       "    color: #555;\n",
       "    margin-left: 4px;\n",
       "    line-height: 19px;\n",
       "  }\n",
       "</style>\n",
       "<div class=\"ansiout\">Out[11]: False</div>"
      ]
     },
     "metadata": {
      "application/vnd.databricks.v1+output": {
       "addedWidgets": {},
       "arguments": {},
       "data": "<div class=\"ansiout\">Out[11]: False</div>",
       "datasetInfos": [],
       "metadata": {},
       "removedWidgets": [],
       "type": "html"
      }
     },
     "output_type": "display_data"
    }
   ],
   "source": [
    "nlp.vocab['beyond'].is_stop"
   ]
  },
  {
   "cell_type": "markdown",
   "metadata": {
    "application/vnd.databricks.v1+cell": {
     "cellMetadata": {},
     "inputWidgets": {},
     "nuid": "ea553ebf-c23a-4f63-b4b0-1683d1583dd3",
     "showTitle": false,
     "title": ""
    }
   },
   "source": [
    "Great! Now you should be able to access spaCy's default set of stop words, and add or remove stop words as needed.\n",
    "## Next up: Vocabulary and Matching"
   ]
  }
 ],
 "metadata": {
  "application/vnd.databricks.v1+notebook": {
   "dashboards": [],
   "language": "python",
   "notebookMetadata": {
    "pythonIndentUnit": 4
   },
   "notebookName": "04-Stop-Words",
   "notebookOrigID": 4081592202875914,
   "widgets": {}
  },
  "kernelspec": {
   "display_name": "Python 3",
   "language": "python",
   "name": "python3"
  },
  "language_info": {
   "codemirror_mode": {
    "name": "ipython",
    "version": 3
   },
   "file_extension": ".py",
   "mimetype": "text/x-python",
   "name": "python",
   "nbconvert_exporter": "python",
   "pygments_lexer": "ipython3",
   "version": "3.8.8"
  }
 },
 "nbformat": 4,
 "nbformat_minor": 1
}
