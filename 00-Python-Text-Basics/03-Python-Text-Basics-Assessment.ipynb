{
 "cells": [
  {
   "cell_type": "markdown",
   "metadata": {
    "application/vnd.databricks.v1+cell": {
     "cellMetadata": {},
     "inputWidgets": {},
     "nuid": "46024595-7aee-4a26-9bf6-f8b239702517",
     "showTitle": false,
     "title": ""
    }
   },
   "source": [
    "___\n",
    "\n",
    "<a href='http://www.pieriandata.com'> <img src='../Pierian_Data_Logo.png' /></a>\n",
    "___"
   ]
  },
  {
   "cell_type": "markdown",
   "metadata": {
    "application/vnd.databricks.v1+cell": {
     "cellMetadata": {},
     "inputWidgets": {},
     "nuid": "d87eb895-91c2-4f30-9ae1-813b9ec013ca",
     "showTitle": false,
     "title": ""
    },
    "collapsed": true
   },
   "source": [
    "# Python Text Basics Assessment\n",
    "\n",
    "Welcome to your assessment! Complete the tasks described in bold below by typing the relevant code in the cells.<br>\n",
    "You can compare your answers to the Solutions notebook provided in this folder."
   ]
  },
  {
   "cell_type": "markdown",
   "metadata": {
    "application/vnd.databricks.v1+cell": {
     "cellMetadata": {},
     "inputWidgets": {},
     "nuid": "6a2238aa-cd33-4e3e-b947-b4d50488a821",
     "showTitle": false,
     "title": ""
    }
   },
   "source": [
    "## f-Strings\n",
    "#### 1. Print an f-string that displays `NLP stands for Natural Language Processing` using the variables provided."
   ]
  },
  {
   "cell_type": "code",
   "execution_count": 0,
   "metadata": {
    "application/vnd.databricks.v1+cell": {
     "cellMetadata": {},
     "inputWidgets": {},
     "nuid": "fb354f36-a23e-4221-92a9-2f76fa751315",
     "showTitle": false,
     "title": ""
    }
   },
   "outputs": [
    {
     "data": {
      "text/plain": [
       "NLP stands for Natural Language Processing\n"
      ]
     },
     "metadata": {
      "application/vnd.databricks.v1+output": {
       "addedWidgets": {},
       "arguments": {},
       "data": "NLP stands for Natural Language Processing\n",
       "datasetInfos": [],
       "metadata": {},
       "name": null,
       "removedWidgets": [],
       "type": "ansi"
      }
     },
     "output_type": "display_data"
    }
   ],
   "source": [
    "abbr = 'NLP'\n",
    "full_text = 'Natural Language Processing'\n",
    "d = {'abbr': abbr, 'full_text': full_text}\n",
    "\n",
    "# Enter your code here:\n",
    "print(f\"{d['abbr']} stands for {d['full_text']}\")"
   ]
  },
  {
   "cell_type": "markdown",
   "metadata": {
    "application/vnd.databricks.v1+cell": {
     "cellMetadata": {},
     "inputWidgets": {},
     "nuid": "a8d53d90-f81e-4c2a-bd6c-462fd7f50e91",
     "showTitle": false,
     "title": ""
    }
   },
   "source": [
    "## Files\n",
    "#### 2. Create a file in the current working directory called `contacts.txt` by running the cell below:"
   ]
  },
  {
   "cell_type": "code",
   "execution_count": 0,
   "metadata": {
    "application/vnd.databricks.v1+cell": {
     "cellMetadata": {},
     "inputWidgets": {},
     "nuid": "11df197e-f761-4759-92df-c5dbcc956d73",
     "showTitle": false,
     "title": ""
    }
   },
   "outputs": [
    {
     "data": {
      "text/plain": [
       "Out[2]: '/databricks/driver'"
      ]
     },
     "metadata": {
      "application/vnd.databricks.v1+output": {
       "addedWidgets": {},
       "arguments": {},
       "data": "Out[2]: '/databricks/driver'",
       "datasetInfos": [],
       "metadata": {},
       "name": null,
       "removedWidgets": [],
       "type": "ansi"
      }
     },
     "output_type": "display_data"
    }
   ],
   "source": [
    "pwd"
   ]
  },
  {
   "cell_type": "code",
   "execution_count": 0,
   "metadata": {
    "application/vnd.databricks.v1+cell": {
     "cellMetadata": {},
     "inputWidgets": {},
     "nuid": "6ce6caf2-7b65-4cfa-9545-1ebb2e353bca",
     "showTitle": false,
     "title": ""
    }
   },
   "outputs": [
    {
     "data": {
      "text/plain": [
       "Overwriting contacts.txt\n"
      ]
     },
     "metadata": {
      "application/vnd.databricks.v1+output": {
       "addedWidgets": {},
       "arguments": {},
       "data": "Overwriting contacts.txt\n",
       "datasetInfos": [],
       "metadata": {},
       "name": null,
       "removedWidgets": [],
       "type": "ansi"
      }
     },
     "output_type": "display_data"
    }
   ],
   "source": [
    "%%writefile contacts.txt\n",
    "First_Name Last_Name, Title, Extension, Email"
   ]
  },
  {
   "cell_type": "markdown",
   "metadata": {
    "application/vnd.databricks.v1+cell": {
     "cellMetadata": {},
     "inputWidgets": {},
     "nuid": "0fc01086-b44a-42b3-b6c8-0a89631de220",
     "showTitle": false,
     "title": ""
    }
   },
   "source": [
    "#### 3. Open the file and use .read() to save the contents of the file to a string called `fields`.  Make sure the file is closed at the end."
   ]
  },
  {
   "cell_type": "code",
   "execution_count": 0,
   "metadata": {
    "application/vnd.databricks.v1+cell": {
     "cellMetadata": {},
     "inputWidgets": {},
     "nuid": "78c90dab-9947-4f32-acd5-a0cf498012da",
     "showTitle": false,
     "title": ""
    }
   },
   "outputs": [
    {
     "data": {
      "text/plain": [
       "First_Name Last_Name, Title, Extension, Email\n",
       "\n"
      ]
     },
     "metadata": {
      "application/vnd.databricks.v1+output": {
       "addedWidgets": {},
       "arguments": {},
       "data": "First_Name Last_Name, Title, Extension, Email\n\n",
       "datasetInfos": [],
       "metadata": {},
       "name": null,
       "removedWidgets": [],
       "type": "ansi"
      }
     },
     "output_type": "display_data"
    }
   ],
   "source": [
    "# Write your code here:\n",
    "my_file = open('contacts.txt')\n",
    "fields = my_file.read()\n",
    "my_file.close()\n",
    "\n",
    "# Run fields to see the contents of contacts.txt:\n",
    "print(fields)"
   ]
  },
  {
   "cell_type": "markdown",
   "metadata": {
    "application/vnd.databricks.v1+cell": {
     "cellMetadata": {},
     "inputWidgets": {},
     "nuid": "0c383831-10f6-4452-be86-8ca499694d9a",
     "showTitle": false,
     "title": ""
    }
   },
   "source": [
    "## Working with PDF Files\n",
    "#### 4. Use PyPDF2 to open the file `Business_Proposal.pdf`. Extract the text of page 2."
   ]
  },
  {
   "cell_type": "code",
   "execution_count": 0,
   "metadata": {
    "application/vnd.databricks.v1+cell": {
     "cellMetadata": {},
     "inputWidgets": {},
     "nuid": "b5b715e9-4c11-4177-911b-cfc9a7b4a5c4",
     "showTitle": false,
     "title": ""
    }
   },
   "outputs": [
    {
     "data": {
      "text/plain": [
       "Python interpreter will be restarted.\n",
       "Collecting PyPDF2\n",
       "  Using cached pypdf2-3.0.1-py3-none-any.whl (232 kB)\n",
       "Requirement already satisfied: typing_extensions>=3.10.0.0 in /databricks/python3/lib/python3.9/site-packages (from PyPDF2) (3.10.0.2)\n",
       "Installing collected packages: PyPDF2\n",
       "Successfully installed PyPDF2-3.0.1\n",
       "Python interpreter will be restarted.\n"
      ]
     },
     "metadata": {
      "application/vnd.databricks.v1+output": {
       "addedWidgets": {},
       "arguments": {},
       "data": "Python interpreter will be restarted.\nCollecting PyPDF2\n  Using cached pypdf2-3.0.1-py3-none-any.whl (232 kB)\nRequirement already satisfied: typing_extensions>=3.10.0.0 in /databricks/python3/lib/python3.9/site-packages (from PyPDF2) (3.10.0.2)\nInstalling collected packages: PyPDF2\nSuccessfully installed PyPDF2-3.0.1\nPython interpreter will be restarted.\n",
       "datasetInfos": [],
       "metadata": {},
       "name": null,
       "removedWidgets": [],
       "type": "ansi"
      }
     },
     "output_type": "display_data"
    }
   ],
   "source": [
    "pip install PyPDF2"
   ]
  },
  {
   "cell_type": "code",
   "execution_count": 0,
   "metadata": {
    "application/vnd.databricks.v1+cell": {
     "cellMetadata": {},
     "inputWidgets": {},
     "nuid": "5b002773-b420-49d4-97f8-4c8d79c787bf",
     "showTitle": false,
     "title": ""
    }
   },
   "outputs": [
    {
     "data": {
      "text/plain": [
       "AUTHORS:  \n",
       "Amy Baker, Finance Chair, x345, abaker@ourcompany.com  \n",
       "Chris Donaldson, Accounting Dir., x621, cdonaldson@ourcompany.com  \n",
       "Erin Freeman, Sr. VP, x879, efreeman@ourcompany.com  \n"
      ]
     },
     "metadata": {
      "application/vnd.databricks.v1+output": {
       "addedWidgets": {},
       "arguments": {},
       "data": "AUTHORS:  \nAmy Baker, Finance Chair, x345, abaker@ourcompany.com  \nChris Donaldson, Accounting Dir., x621, cdonaldson@ourcompany.com  \nErin Freeman, Sr. VP, x879, efreeman@ourcompany.com  \n",
       "datasetInfos": [],
       "metadata": {},
       "name": null,
       "removedWidgets": [],
       "type": "ansi"
      }
     },
     "output_type": "display_data"
    }
   ],
   "source": [
    "# Perform import\n",
    "import PyPDF2\n",
    "\n",
    "\n",
    "# Open the file as a binary object\n",
    "f = open('/dbfs/FileStore/ds_data_files/Business_Proposal.pdf', 'rb')\n",
    "\n",
    "\n",
    "# Use PyPDF2 to read the text of the file\n",
    "pdf_reader = PyPDF2.PdfReader(f)\n",
    "\n",
    "\n",
    "\n",
    "# Get the text from page 2 (CHALLENGE: Do this in one step!)\n",
    "page_two_text = pdf_reader.pages[1].extract_text()\n",
    "\n",
    "\n",
    "# Close the file\n",
    "f.close()\n",
    "\n",
    "\n",
    "# Print the contents of page_two_text\n",
    "print(page_two_text)"
   ]
  },
  {
   "cell_type": "markdown",
   "metadata": {
    "application/vnd.databricks.v1+cell": {
     "cellMetadata": {},
     "inputWidgets": {},
     "nuid": "0217e8fb-2598-4c33-8c32-df03c8165724",
     "showTitle": false,
     "title": ""
    }
   },
   "source": [
    "#### 5. Open the file `contacts.txt` in append mode. Add the text of page 2 from above to `contacts.txt`.\n",
    "\n",
    "#### CHALLENGE: See if you can remove the word \"AUTHORS:\""
   ]
  },
  {
   "cell_type": "code",
   "execution_count": 0,
   "metadata": {
    "application/vnd.databricks.v1+cell": {
     "cellMetadata": {},
     "inputWidgets": {},
     "nuid": "c97708f0-fefc-4787-92cc-8a9754ba4546",
     "showTitle": false,
     "title": ""
    }
   },
   "outputs": [
    {
     "data": {
      "text/plain": [
       "Amy Baker, Finance Chair, x345, abaker@ourcompany.com  \n",
       "Chris Donaldson, Accounting Dir., x621, cdonaldson@ourcompany.com  \n",
       "Erin Freeman, Sr. VP, x879, efreeman@ourcompany.com  \n"
      ]
     },
     "metadata": {
      "application/vnd.databricks.v1+output": {
       "addedWidgets": {},
       "arguments": {},
       "data": "Amy Baker, Finance Chair, x345, abaker@ourcompany.com  \nChris Donaldson, Accounting Dir., x621, cdonaldson@ourcompany.com  \nErin Freeman, Sr. VP, x879, efreeman@ourcompany.com  \n",
       "datasetInfos": [],
       "metadata": {},
       "name": null,
       "removedWidgets": [],
       "type": "ansi"
      }
     },
     "output_type": "display_data"
    }
   ],
   "source": [
    "print(page_two_text.split('\\n',1)[1])"
   ]
  },
  {
   "cell_type": "code",
   "execution_count": 0,
   "metadata": {
    "application/vnd.databricks.v1+cell": {
     "cellMetadata": {},
     "inputWidgets": {},
     "nuid": "761b7ac9-5a7b-4dc1-a4fe-bcf760bc60fd",
     "showTitle": false,
     "title": ""
    }
   },
   "outputs": [
    {
     "data": {
      "text/plain": [
       "First_Name Last_Name, Title, Extension, Email\n",
       "Amy Baker, Finance Chair, x345, abaker@ourcompany.com  \n",
       "Chris Donaldson, Accounting Dir., x621, cdonaldson@ourcompany.com  \n",
       "Erin Freeman, Sr. VP, x879, efreeman@ourcompany.com  \n"
      ]
     },
     "metadata": {
      "application/vnd.databricks.v1+output": {
       "addedWidgets": {},
       "arguments": {},
       "data": "First_Name Last_Name, Title, Extension, Email\nAmy Baker, Finance Chair, x345, abaker@ourcompany.com  \nChris Donaldson, Accounting Dir., x621, cdonaldson@ourcompany.com  \nErin Freeman, Sr. VP, x879, efreeman@ourcompany.com  \n",
       "datasetInfos": [],
       "metadata": {},
       "name": null,
       "removedWidgets": [],
       "type": "ansi"
      }
     },
     "output_type": "display_data"
    }
   ],
   "source": [
    "# Simple Solution:\n",
    "my_file = open('contacts.txt', 'a+')\n",
    "my_file.write(page_two_text.split('\\n',1)[1])\n",
    "\n",
    "my_file.seek(0)\n",
    "print(my_file.read())\n",
    "\n",
    "# my_file.close()\n",
    "\n",
    "\n",
    "\n"
   ]
  },
  {
   "cell_type": "code",
   "execution_count": 0,
   "metadata": {
    "application/vnd.databricks.v1+cell": {
     "cellMetadata": {},
     "inputWidgets": {},
     "nuid": "cea79d92-ceb4-464b-86fe-4fcc8037d6cd",
     "showTitle": false,
     "title": ""
    }
   },
   "outputs": [
    {
     "data": {
      "text/plain": [
       "First_Name Last_Name, Title, Extension, Email\n",
       " \n",
       "Amy Baker, Finance Chair, x345, abaker@ourcompany.com\n",
       " \n",
       "Chris Donaldson, Accounting Dir., x621, cdonaldson@ourcompany.com\n",
       " \n",
       "Erin Freeman, Sr. VP, x879, efreeman@ourcompany.com\n",
       " \n",
       "\n"
      ]
     },
     "metadata": {
      "application/vnd.databricks.v1+output": {
       "addedWidgets": {},
       "arguments": {},
       "data": "First_Name Last_Name, Title, Extension, Email\n \nAmy Baker, Finance Chair, x345, abaker@ourcompany.com\n \nChris Donaldson, Accounting Dir., x621, cdonaldson@ourcompany.com\n \nErin Freeman, Sr. VP, x879, efreeman@ourcompany.com\n \n\n",
       "datasetInfos": [],
       "metadata": {},
       "name": "stdout",
       "removedWidgets": [],
       "type": "ansi"
      }
     },
     "output_type": "display_data"
    }
   ],
   "source": [
    "# CHALLENGE Solution (re-run the %%writefile cell above to obtain an unmodified contacts.txt file):\n",
    "\n",
    "\n",
    "\n"
   ]
  },
  {
   "cell_type": "markdown",
   "metadata": {
    "application/vnd.databricks.v1+cell": {
     "cellMetadata": {},
     "inputWidgets": {},
     "nuid": "fb8e5b46-d18f-46d9-9514-b97c258d9085",
     "showTitle": false,
     "title": ""
    }
   },
   "source": [
    "## Regular Expressions\n",
    "#### 6. Using the `page_two_text` variable created above, extract any email addresses that were contained in the file `Business_Proposal.pdf`."
   ]
  },
  {
   "cell_type": "code",
   "execution_count": 0,
   "metadata": {
    "application/vnd.databricks.v1+cell": {
     "cellMetadata": {},
     "inputWidgets": {},
     "nuid": "ce3daba3-2509-45da-840e-2cdfbf319534",
     "showTitle": false,
     "title": ""
    }
   },
   "outputs": [
    {
     "data": {
      "text/plain": [
       "Out[16]: 'AUTHORS:  \\nAmy Baker, Finance Chair, x345, abaker@ourcompany.com  \\nChris Donaldson, Accounting Dir., x621, cdonaldson@ourcompany.com  \\nErin Freeman, Sr. VP, x879, efreeman@ourcompany.com  '"
      ]
     },
     "metadata": {
      "application/vnd.databricks.v1+output": {
       "addedWidgets": {},
       "arguments": {},
       "data": "Out[16]: 'AUTHORS:  \\nAmy Baker, Finance Chair, x345, abaker@ourcompany.com  \\nChris Donaldson, Accounting Dir., x621, cdonaldson@ourcompany.com  \\nErin Freeman, Sr. VP, x879, efreeman@ourcompany.com  '",
       "datasetInfos": [],
       "metadata": {},
       "name": null,
       "removedWidgets": [],
       "type": "ansi"
      }
     },
     "output_type": "display_data"
    }
   ],
   "source": [
    "page_two_text"
   ]
  },
  {
   "cell_type": "code",
   "execution_count": 0,
   "metadata": {
    "application/vnd.databricks.v1+cell": {
     "cellMetadata": {},
     "inputWidgets": {},
     "nuid": "93a11e2a-2ae4-41a6-9710-2c8f98d60967",
     "showTitle": false,
     "title": ""
    }
   },
   "outputs": [
    {
     "data": {
      "text/plain": [
       "Out[18]: ['abaker@ourcompany.com',\n",
       " 'cdonaldson@ourcompany.com',\n",
       " 'efreeman@ourcompany.com']"
      ]
     },
     "metadata": {
      "application/vnd.databricks.v1+output": {
       "addedWidgets": {},
       "arguments": {},
       "data": "Out[18]: ['abaker@ourcompany.com',\n 'cdonaldson@ourcompany.com',\n 'efreeman@ourcompany.com']",
       "datasetInfos": [],
       "metadata": {},
       "name": null,
       "removedWidgets": [],
       "type": "ansi"
      }
     },
     "output_type": "display_data"
    }
   ],
   "source": [
    "import re\n",
    "\n",
    "# Enter your regex pattern here. This may take several tries!\n",
    "pattern = r'[\\w]+@[\\w]+\\.com'\n",
    "\n",
    "re.findall(pattern, page_two_text)"
   ]
  },
  {
   "cell_type": "markdown",
   "metadata": {
    "application/vnd.databricks.v1+cell": {
     "cellMetadata": {},
     "inputWidgets": {},
     "nuid": "1c15ec9f-42a7-440d-80b8-ea0ff9c0023d",
     "showTitle": false,
     "title": ""
    }
   },
   "source": [
    "### Great job!"
   ]
  }
 ],
 "metadata": {
  "application/vnd.databricks.v1+notebook": {
   "dashboards": [],
   "language": "python",
   "notebookMetadata": {
    "pythonIndentUnit": 4
   },
   "notebookName": "03-Python-Text-Basics-Assessment",
   "notebookOrigID": 595939681565736,
   "widgets": {}
  },
  "kernelspec": {
   "display_name": "Python 3",
   "language": "python",
   "name": "python3"
  },
  "language_info": {
   "codemirror_mode": {
    "name": "ipython",
    "version": 3
   },
   "file_extension": ".py",
   "mimetype": "text/x-python",
   "name": "python",
   "nbconvert_exporter": "python",
   "pygments_lexer": "ipython3",
   "version": "3.8.8"
  }
 },
 "nbformat": 4,
 "nbformat_minor": 1
}
