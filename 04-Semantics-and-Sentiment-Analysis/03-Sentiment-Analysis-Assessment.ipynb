{
 "cells": [
  {
   "cell_type": "markdown",
   "metadata": {
    "application/vnd.databricks.v1+cell": {
     "cellMetadata": {},
     "inputWidgets": {},
     "nuid": "75b59e01-74bb-405e-bb68-0844991b1949",
     "showTitle": false,
     "title": ""
    },
    "collapsed": true
   },
   "source": [
    "___\n",
    "\n",
    "<a href='http://www.pieriandata.com'> <img src='../Pierian_Data_Logo.png' /></a>\n",
    "___"
   ]
  },
  {
   "cell_type": "markdown",
   "metadata": {
    "application/vnd.databricks.v1+cell": {
     "cellMetadata": {},
     "inputWidgets": {},
     "nuid": "48c350ef-9ac5-4334-9c55-2f94fbfb8ec8",
     "showTitle": false,
     "title": ""
    }
   },
   "source": [
    "# Sentiment Analysis Assessment\n",
    "\n",
    "## Task #1: Perform vector arithmetic on your own words\n",
    "Write code that evaluates vector arithmetic on your own set of related words. The goal is to come as close to an expected word as possible. Please feel free to share success stories in the Q&A Forum for this section!"
   ]
  },
  {
   "cell_type": "code",
   "execution_count": 0,
   "metadata": {
    "application/vnd.databricks.v1+cell": {
     "cellMetadata": {
      "byteLimit": 2048000,
      "rowLimit": 10000
     },
     "inputWidgets": {},
     "nuid": "c37720d0-262a-40a3-8403-3623e827f8ad",
     "showTitle": false,
     "title": ""
    }
   },
   "outputs": [
    {
     "name": "stdout",
     "output_type": "stream",
     "text": [
      "Python interpreter will be restarted.\n",
      "Collecting en-core-web-lg==3.5.0\n",
      "  Downloading https://github.com/explosion/spacy-models/releases/download/en_core_web_lg-3.5.0/en_core_web_lg-3.5.0-py3-none-any.whl (587.7 MB)\n",
      "Collecting spacy<3.6.0,>=3.5.0\n",
      "  Using cached spacy-3.5.1-cp39-cp39-manylinux_2_17_x86_64.manylinux2014_x86_64.whl (6.6 MB)\n",
      "Collecting thinc<8.2.0,>=8.1.8\n",
      "  Using cached thinc-8.1.9-cp39-cp39-manylinux_2_17_x86_64.manylinux2014_x86_64.whl (922 kB)\n",
      "Requirement already satisfied: requests<3.0.0,>=2.13.0 in /databricks/python3/lib/python3.9/site-packages (from spacy<3.6.0,>=3.5.0->en-core-web-lg==3.5.0) (2.26.0)\n",
      "Requirement already satisfied: setuptools in /usr/local/lib/python3.9/dist-packages (from spacy<3.6.0,>=3.5.0->en-core-web-lg==3.5.0) (58.0.4)\n",
      "Collecting tqdm<5.0.0,>=4.38.0\n",
      "  Using cached tqdm-4.65.0-py3-none-any.whl (77 kB)\n",
      "Collecting pydantic!=1.8,!=1.8.1,<1.11.0,>=1.7.4\n",
      "  Using cached pydantic-1.10.6-cp39-cp39-manylinux_2_17_x86_64.manylinux2014_x86_64.whl (3.2 MB)\n",
      "Collecting spacy-legacy<3.1.0,>=3.0.11\n",
      "  Using cached spacy_legacy-3.0.12-py2.py3-none-any.whl (29 kB)\n",
      "Collecting srsly<3.0.0,>=2.4.3\n",
      "  Using cached srsly-2.4.6-cp39-cp39-manylinux_2_17_x86_64.manylinux2014_x86_64.whl (491 kB)\n",
      "Collecting preshed<3.1.0,>=3.0.2\n",
      "  Using cached preshed-3.0.8-cp39-cp39-manylinux_2_5_x86_64.manylinux1_x86_64.manylinux_2_17_x86_64.manylinux2014_x86_64.whl (128 kB)\n",
      "Collecting murmurhash<1.1.0,>=0.28.0\n",
      "  Using cached murmurhash-1.0.9-cp39-cp39-manylinux_2_5_x86_64.manylinux1_x86_64.manylinux_2_17_x86_64.manylinux2014_x86_64.whl (21 kB)\n",
      "Requirement already satisfied: packaging>=20.0 in /databricks/python3/lib/python3.9/site-packages (from spacy<3.6.0,>=3.5.0->en-core-web-lg==3.5.0) (21.0)\n",
      "Requirement already satisfied: jinja2 in /databricks/python3/lib/python3.9/site-packages (from spacy<3.6.0,>=3.5.0->en-core-web-lg==3.5.0) (2.11.3)\n",
      "Collecting typer<0.8.0,>=0.3.0\n",
      "  Using cached typer-0.7.0-py3-none-any.whl (38 kB)\n",
      "Collecting cymem<2.1.0,>=2.0.2\n",
      "  Using cached cymem-2.0.7-cp39-cp39-manylinux_2_17_x86_64.manylinux2014_x86_64.whl (35 kB)\n",
      "Collecting catalogue<2.1.0,>=2.0.6\n",
      "  Using cached catalogue-2.0.8-py3-none-any.whl (17 kB)\n",
      "Collecting langcodes<4.0.0,>=3.2.0\n",
      "  Using cached langcodes-3.3.0-py3-none-any.whl (181 kB)\n",
      "Requirement already satisfied: numpy>=1.15.0 in /databricks/python3/lib/python3.9/site-packages (from spacy<3.6.0,>=3.5.0->en-core-web-lg==3.5.0) (1.20.3)\n",
      "Collecting spacy-loggers<2.0.0,>=1.0.0\n",
      "  Using cached spacy_loggers-1.0.4-py3-none-any.whl (11 kB)\n",
      "Collecting wasabi<1.2.0,>=0.9.1\n",
      "  Using cached wasabi-1.1.1-py3-none-any.whl (27 kB)\n",
      "Collecting smart-open<7.0.0,>=5.2.1\n",
      "  Using cached smart_open-6.3.0-py3-none-any.whl (56 kB)\n",
      "Collecting pathy>=0.10.0\n",
      "  Using cached pathy-0.10.1-py3-none-any.whl (48 kB)\n",
      "Requirement already satisfied: pyparsing>=2.0.2 in /databricks/python3/lib/python3.9/site-packages (from packaging>=20.0->spacy<3.6.0,>=3.5.0->en-core-web-lg==3.5.0) (3.0.4)\n",
      "Collecting typing-extensions>=4.2.0\n",
      "  Using cached typing_extensions-4.5.0-py3-none-any.whl (27 kB)\n",
      "Requirement already satisfied: idna<4,>=2.5 in /databricks/python3/lib/python3.9/site-packages (from requests<3.0.0,>=2.13.0->spacy<3.6.0,>=3.5.0->en-core-web-lg==3.5.0) (3.2)\n",
      "Requirement already satisfied: charset-normalizer~=2.0.0 in /databricks/python3/lib/python3.9/site-packages (from requests<3.0.0,>=2.13.0->spacy<3.6.0,>=3.5.0->en-core-web-lg==3.5.0) (2.0.4)\n",
      "Requirement already satisfied: urllib3<1.27,>=1.21.1 in /databricks/python3/lib/python3.9/site-packages (from requests<3.0.0,>=2.13.0->spacy<3.6.0,>=3.5.0->en-core-web-lg==3.5.0) (1.26.7)\n",
      "Requirement already satisfied: certifi>=2017.4.17 in /databricks/python3/lib/python3.9/site-packages (from requests<3.0.0,>=2.13.0->spacy<3.6.0,>=3.5.0->en-core-web-lg==3.5.0) (2021.10.8)\n",
      "Collecting confection<1.0.0,>=0.0.1\n",
      "  Using cached confection-0.0.4-py3-none-any.whl (32 kB)\n",
      "Collecting blis<0.8.0,>=0.7.8\n",
      "  Using cached blis-0.7.9-cp39-cp39-manylinux_2_17_x86_64.manylinux2014_x86_64.whl (10.2 MB)\n",
      "Requirement already satisfied: click<9.0.0,>=7.1.1 in /databricks/python3/lib/python3.9/site-packages (from typer<0.8.0,>=0.3.0->spacy<3.6.0,>=3.5.0->en-core-web-lg==3.5.0) (8.0.3)\n",
      "Requirement already satisfied: MarkupSafe>=0.23 in /databricks/python3/lib/python3.9/site-packages (from jinja2->spacy<3.6.0,>=3.5.0->en-core-web-lg==3.5.0) (2.0.1)\n",
      "Installing collected packages: typing-extensions, catalogue, srsly, pydantic, murmurhash, cymem, wasabi, typer, smart-open, preshed, confection, blis, tqdm, thinc, spacy-loggers, spacy-legacy, pathy, langcodes, spacy, en-core-web-lg\n",
      "  Attempting uninstall: typing-extensions\n",
      "    Found existing installation: typing-extensions 3.10.0.2\n",
      "    Not uninstalling typing-extensions at /databricks/python3/lib/python3.9/site-packages, outside environment /local_disk0/.ephemeral_nfs/envs/pythonEnv-0cef1642-25ca-42d0-a0eb-369e8f01c5a8\n",
      "    Can't uninstall 'typing-extensions'. No files were found to uninstall.\n",
      "Successfully installed blis-0.7.9 catalogue-2.0.8 confection-0.0.4 cymem-2.0.7 en-core-web-lg-3.5.0 langcodes-3.3.0 murmurhash-1.0.9 pathy-0.10.1 preshed-3.0.8 pydantic-1.10.6 smart-open-6.3.0 spacy-3.5.1 spacy-legacy-3.0.12 spacy-loggers-1.0.4 srsly-2.4.6 thinc-8.1.9 tqdm-4.65.0 typer-0.7.0 typing-extensions-4.5.0 wasabi-1.1.1\n",
      "Python interpreter will be restarted.\n"
     ]
    }
   ],
   "source": [
    "pip install \"https://github.com/explosion/spacy-models/releases/download/en_core_web_lg-3.5.0/en_core_web_lg-3.5.0-py3-none-any.whl\""
   ]
  },
  {
   "cell_type": "code",
   "execution_count": 0,
   "metadata": {
    "application/vnd.databricks.v1+cell": {
     "cellMetadata": {
      "byteLimit": 2048000,
      "rowLimit": 10000
     },
     "inputWidgets": {},
     "nuid": "8702d0c1-f4c3-4694-95e6-bd2d4c626125",
     "showTitle": false,
     "title": ""
    }
   },
   "outputs": [],
   "source": [
    "import spacy\n",
    "from spacy.lang.en import STOP_WORDS\n",
    "nlp = spacy.load('en_core_web_lg')  # make sure to use a larger model!"
   ]
  },
  {
   "cell_type": "code",
   "execution_count": 0,
   "metadata": {
    "application/vnd.databricks.v1+cell": {
     "cellMetadata": {},
     "inputWidgets": {},
     "nuid": "b9ea37de-887b-41d9-a087-8cb4b380a842",
     "showTitle": false,
     "title": ""
    }
   },
   "outputs": [],
   "source": []
  },
  {
   "cell_type": "code",
   "execution_count": 0,
   "metadata": {
    "application/vnd.databricks.v1+cell": {
     "cellMetadata": {
      "byteLimit": 2048000,
      "rowLimit": 10000
     },
     "inputWidgets": {},
     "nuid": "a8d1e958-08d7-4af5-afc9-4df217e2d772",
     "showTitle": false,
     "title": ""
    }
   },
   "outputs": [
    {
     "name": "stdout",
     "output_type": "stream",
     "text": [
      "Out[4]: array([ -1.4639  ,  -2.4799  ,  -3.8651  ,  -3.0494  ,   0.5724  ,\n",
      "         6.3227  ,   0.68117 ,   3.3025  ,   4.7643  ,  -4.5324  ,\n",
      "        -5.0241  ,   1.2499  ,   4.9338  ,  -3.6056  ,  -3.7387  ,\n",
      "        -1.068   ,   2.5113  ,   3.3629  ,   1.611   ,  11.62    ,\n",
      "        -1.0748  ,   0.77754 ,   7.5661  ,   0.077073,   0.73049 ,\n",
      "         3.3523  ,   1.5292  ,   2.5581  ,  -5.3649  ,  -5.7513  ,\n",
      "        -5.2362  ,  11.104   ,  -2.5218  ,  11.061   ,  -7.5375  ,\n",
      "        -2.0597  ,   2.3736  ,  -3.9835  ,  -3.1375  ,  -1.5505  ,\n",
      "         2.5327  ,   1.8263  ,   1.5949  ,   1.9807  ,   1.6303  ,\n",
      "        -2.579   ,   1.5565  ,   1.7248  ,   0.1474  ,   3.2506  ,\n",
      "        -0.58425 ,   3.9331  ,  -0.19418 ,   1.0491  ,   2.0897  ,\n",
      "        -5.6368  ,  -1.912   ,  -9.2915  ,  -3.9354  ,   2.8393  ,\n",
      "        -2.9731  ,  -3.0288  ,   0.5511  ,   7.0456  ,   3.9736  ,\n",
      "        -4.4724  ,  -5.1859  ,   0.628   ,   2.5993  ,  -0.80378 ,\n",
      "         1.4134  ,  -2.048   ,  -1.8045  ,  -6.1265  ,  -5.1612  ,\n",
      "        -1.2721  ,   2.8313  ,   2.1629  ,  -5.2593  ,  -0.114   ,\n",
      "         2.4883  ,  -1.6358  ,  -2.686   ,   1.3116  ,   2.4148  ,\n",
      "        -6.2436  ,  -1.372   ,  -6.6367  ,   1.5568  ,   0.29886 ,\n",
      "        -8.8113  ,   3.4096  ,  -2.57    ,   8.9002  ,  -0.28518 ,\n",
      "        -4.5684  ,   0.99838 ,   5.815   ,   8.3249  ,  -1.5223  ,\n",
      "        -1.8093  ,  -4.3233  ,   1.0191  ,  -0.56499 ,   2.9879  ,\n",
      "         4.4272  ,  -3.424   ,   1.9314  ,   6.0934  , -14.213   ,\n",
      "        -5.6038  ,  -3.6766  ,   3.8356  ,   3.2211  ,   2.3035  ,\n",
      "        -9.3554  ,   0.062381,   1.3877  ,  -3.6085  ,  -0.60965 ,\n",
      "         5.1243  ,  -3.3969  ,   2.4697  ,  -0.17631 ,  -4.5803  ,\n",
      "         3.8293  ,   1.3904  ,   3.1351  ,  -3.1415  ,  -2.4179  ,\n",
      "         2.3899  ,   0.83254 ,  -2.5043  ,   0.38529 ,  -1.2845  ,\n",
      "         2.8099  ,   1.8351  ,   2.9675  ,  -0.48307 ,  -1.2729  ,\n",
      "         2.5059  ,   6.3561  ,   1.4859  ,  -2.5295  ,  -5.8353  ,\n",
      "        -2.9841  ,  -2.581   ,   2.0612  ,  -3.4973  ,  -0.64406 ,\n",
      "        -1.2894  ,   0.96008 ,  -1.5394  ,  -3.167   ,  -2.4963  ,\n",
      "        -3.4989  ,   2.2344  ,  -1.4561  ,   1.8383  ,   3.1262  ,\n",
      "        -0.21508 ,  -3.7275  ,  -1.4202  , -11.091   ,  -7.7485  ,\n",
      "        -4.5314  ,  -0.94067 ,  -1.2974  ,  -0.34471 ,  -2.2295  ,\n",
      "        -3.8253  ,  -0.48277 ,  -0.93782 ,   1.639   ,  -0.58557 ,\n",
      "        -0.46354 ,  -2.6545  ,   3.3005  ,   6.7257  ,   4.8502  ,\n",
      "        -9.1098  ,   6.5038  ,  -5.1727  ,   5.77    ,   1.926   ,\n",
      "         1.5425  ,  -0.38121 ,  -2.6611  ,   9.3012  ,   5.225   ,\n",
      "         9.94    ,  -1.9056  ,   0.69159 ,   0.72595 ,   1.0453  ,\n",
      "        -2.3777  ,  -3.9896  ,   2.7721  ,  -0.41724 ,   0.12431 ,\n",
      "        -1.3382  ,  -0.12769 ,  -0.65793 ,  -4.5916  ,  -3.1725  ,\n",
      "         7.3058  ,   5.3511  ,  -7.8276  ,  -0.80897 ,   3.4216  ,\n",
      "        -1.3973  ,   1.4192  ,   0.16613 ,   1.2227  ,   6.998   ,\n",
      "        -4.3286  ,   0.12587 ,  -0.33736 ,   3.5107  ,  -1.9002  ,\n",
      "         6.1954  ,  -1.2941  ,   0.84726 ,  -0.88786 ,  -4.8835  ,\n",
      "         5.0847  ,   2.0116  ,   1.9215  ,  -3.066   ,  -1.1355  ,\n",
      "         1.4908  ,  -1.4646  ,  -4.2469  ,  -5.083   ,   4.845   ,\n",
      "         0.30996 ,   4.2782  ,  -3.298   ,   5.1392  ,   1.3808  ,\n",
      "         2.7935  ,  -3.0335  ,   5.1229  ,  -9.5738  ,   4.0103  ,\n",
      "         2.0867  ,   6.252   ,  -2.3151  ,  -5.5302  ,   2.4114  ,\n",
      "        -0.97017 ,  -6.0456  ,   0.95996 ,  -3.1565  ,  -3.3841  ,\n",
      "        -3.8872  ,  -3.8125  ,   0.78454 ,  -3.9446  ,   0.65427 ,\n",
      "         3.5473  ,  -8.0996  ,   2.6533  ,  -0.53439 ,  -7.4642  ,\n",
      "        -7.0819  ,  -8.2701  ,   6.5428  ,   1.5275  , -14.367   ,\n",
      "         2.5246  ,   2.2221  ,   3.3843  ,  -5.6998  ,  -5.9692  ,\n",
      "        -0.46833 ,  -2.0653  ,   5.0047  ,  -2.2712  ,  -2.6779  ,\n",
      "        -0.035542,  -0.55463 ,   4.5071  ,   3.6931  ,   1.1211  ,\n",
      "         1.5739  ,   0.27832 ,   5.9765  ,   1.7522  ,  -2.6285  ,\n",
      "        -9.8553  ,  -7.3187  ,  -2.6539  ,   1.1397  ,  -0.070228,\n",
      "        -1.3039  ,   4.8338  ,   1.3493  ,  -1.1027  ,  -2.1362  ],\n",
      "      dtype=float32)"
     ]
    }
   ],
   "source": [
    "# Choose the words you wish to compare, and obtain their vectors\n",
    "nlp(u'Shiba').vector\n",
    "nlp(u'Fox').vector"
   ]
  },
  {
   "cell_type": "code",
   "execution_count": 0,
   "metadata": {
    "application/vnd.databricks.v1+cell": {
     "cellMetadata": {
      "byteLimit": 2048000,
      "rowLimit": 10000
     },
     "inputWidgets": {},
     "nuid": "5681b61b-0610-4166-8e49-6664ab52e1f7",
     "showTitle": false,
     "title": ""
    }
   },
   "outputs": [],
   "source": [
    "# Import spatial and define a cosine_similarity function\n",
    "from scipy import spatial\n",
    "\n",
    "cosine_similarity = lambda x, y: 1 - spatial.distance.cosine(x, y)  # cosine distance is complement of cosine similarity"
   ]
  },
  {
   "cell_type": "code",
   "execution_count": 0,
   "metadata": {
    "application/vnd.databricks.v1+cell": {
     "cellMetadata": {
      "byteLimit": 2048000,
      "rowLimit": 10000
     },
     "inputWidgets": {},
     "nuid": "324e8efb-6390-4eff-97d8-7939d11d6f5d",
     "showTitle": false,
     "title": ""
    }
   },
   "outputs": [],
   "source": [
    "# Write an expression for vector arithmetic\n",
    "# For example: new_vector = word1 - word2 + word3\n",
    "w1 = nlp.vocab['wolf'].vector\n",
    "w2 = nlp.vocab['dog'].vector\n",
    "w3 = nlp.vocab['cat'].vector\n",
    "\n",
    "new_vector = w1 - w2 + w3"
   ]
  },
  {
   "cell_type": "code",
   "execution_count": 0,
   "metadata": {
    "application/vnd.databricks.v1+cell": {
     "cellMetadata": {
      "byteLimit": 2048000,
      "rowLimit": 10000
     },
     "inputWidgets": {},
     "nuid": "ff9e4a23-c28c-46b0-bebf-978660366914",
     "showTitle": false,
     "title": ""
    }
   },
   "outputs": [
    {
     "name": "stdout",
     "output_type": "stream",
     "text": [
      "['i', 'nt', 'cos', 'dare', 'it', 'he', 'she', 'l', 'ai', 'somethin']\n"
     ]
    }
   ],
   "source": [
    "# List the top ten closest vectors in the vocabulary to the result of the expression above\n",
    "computed_similarities = []\n",
    "\n",
    "for word in nlp.vocab:\n",
    "    # Ignore words without vectors and mixed-case words:\n",
    "    if word.has_vector:\n",
    "        if word.is_lower:\n",
    "            if word.is_alpha:\n",
    "                    similarity = cosine_similarity(new_vector, word.vector)\n",
    "                    computed_similarities.append((word, similarity))\n",
    "\n",
    "computed_similarities = sorted(computed_similarities, key=lambda item: -item[1])  # descending order -, by similarity\n",
    "\n",
    "print([w[0].text for w in computed_similarities[:10]])"
   ]
  },
  {
   "cell_type": "markdown",
   "metadata": {
    "application/vnd.databricks.v1+cell": {
     "cellMetadata": {},
     "inputWidgets": {},
     "nuid": "4da28526-f778-45c1-beb3-69f30a409546",
     "showTitle": false,
     "title": ""
    }
   },
   "source": [
    "#### CHALLENGE: Write a function that takes in 3 strings, performs a-b+c arithmetic, and returns a top-ten result"
   ]
  },
  {
   "cell_type": "code",
   "execution_count": 0,
   "metadata": {
    "application/vnd.databricks.v1+cell": {
     "cellMetadata": {
      "byteLimit": 2048000,
      "rowLimit": 10000
     },
     "inputWidgets": {},
     "nuid": "801250c3-8fbc-41db-a7ae-2a445fe4cce2",
     "showTitle": false,
     "title": ""
    }
   },
   "outputs": [],
   "source": [
    "def vector_math(a,b,c):\n",
    "    cosine_similarity = lambda x, y: 1 - spatial.distance.cosine(x, y)  # cosine distance is complement of cosine similarity\n",
    "    \n",
    "    w1 = nlp.vocab[a].vector\n",
    "    w2 = nlp.vocab[b].vector\n",
    "    w3 = nlp.vocab[c].vector\n",
    "    new_vector = w1 - w2 + w3\n",
    "    \n",
    "    computed_similarities = []\n",
    "    \n",
    "    for word in nlp.vocab:\n",
    "    # Ignore words without vectors and mixed-case words:\n",
    "        if word.has_vector:\n",
    "            if word.is_lower:\n",
    "                if word.is_alpha:\n",
    "                    similarity = cosine_similarity(new_vector, word.vector)\n",
    "                    computed_similarities.append((word, similarity))\n",
    "                    \n",
    "    computed_similarities = sorted(computed_similarities, key=lambda item: -item[1])  # descending order -, by similarity\n",
    "    \n",
    "    return ([w[0].text for w in computed_similarities[:10]])"
   ]
  },
  {
   "cell_type": "code",
   "execution_count": 0,
   "metadata": {
    "application/vnd.databricks.v1+cell": {
     "cellMetadata": {
      "byteLimit": 2048000,
      "rowLimit": 10000
     },
     "inputWidgets": {},
     "nuid": "8fa3d4bc-e334-4d2d-835f-a73bb5a163eb",
     "showTitle": false,
     "title": ""
    }
   },
   "outputs": [
    {
     "name": "stdout",
     "output_type": "stream",
     "text": [
      "Out[19]: ['king',\n",
      " 'prince',\n",
      " 'queen',\n",
      " 'france',\n",
      " 'and',\n",
      " 'that',\n",
      " 'where',\n",
      " 'she',\n",
      " 'they',\n",
      " 'woman']"
     ]
    }
   ],
   "source": [
    "# Test the function on known words:\n",
    "vector_math('king','man','woman')"
   ]
  },
  {
   "cell_type": "markdown",
   "metadata": {
    "application/vnd.databricks.v1+cell": {
     "cellMetadata": {},
     "inputWidgets": {},
     "nuid": "fd71f3b3-5be2-4785-95cc-9617cead1f7e",
     "showTitle": false,
     "title": ""
    }
   },
   "source": [
    "## Task #2: Perform VADER Sentiment Analysis on your own review\n",
    "Write code that returns a set of SentimentIntensityAnalyzer polarity scores based on your own written review."
   ]
  },
  {
   "cell_type": "code",
   "execution_count": 0,
   "metadata": {
    "application/vnd.databricks.v1+cell": {
     "cellMetadata": {
      "byteLimit": 2048000,
      "rowLimit": 10000
     },
     "inputWidgets": {},
     "nuid": "6fb2c169-fb4d-45ea-8e06-1432f019cc70",
     "showTitle": false,
     "title": ""
    }
   },
   "outputs": [
    {
     "name": "stdout",
     "output_type": "stream",
     "text": [
      "Python interpreter will be restarted.\n",
      "Collecting nltk\n",
      "  Using cached nltk-3.8.1-py3-none-any.whl (1.5 MB)\n",
      "Requirement already satisfied: tqdm in /local_disk0/.ephemeral_nfs/envs/pythonEnv-0cef1642-25ca-42d0-a0eb-369e8f01c5a8/lib/python3.9/site-packages (from nltk) (4.65.0)\n",
      "Requirement already satisfied: click in /databricks/python3/lib/python3.9/site-packages (from nltk) (8.0.3)\n",
      "Collecting regex>=2021.8.3\n",
      "  Using cached regex-2022.10.31-cp39-cp39-manylinux_2_17_x86_64.manylinux2014_x86_64.whl (769 kB)\n",
      "Requirement already satisfied: joblib in /databricks/python3/lib/python3.9/site-packages (from nltk) (1.0.1)\n",
      "Installing collected packages: regex, nltk\n",
      "Successfully installed nltk-3.8.1 regex-2022.10.31\n",
      "Python interpreter will be restarted.\n"
     ]
    }
   ],
   "source": [
    "pip install nltk"
   ]
  },
  {
   "cell_type": "code",
   "execution_count": 0,
   "metadata": {
    "application/vnd.databricks.v1+cell": {
     "cellMetadata": {
      "byteLimit": 2048000,
      "rowLimit": 10000
     },
     "inputWidgets": {},
     "nuid": "e4487ef2-d51b-4940-8526-896e5c04d36a",
     "showTitle": false,
     "title": ""
    }
   },
   "outputs": [],
   "source": [
    "# Import SentimentIntensityAnalyzer and create an sid object\n",
    "from nltk.sentiment.vader import SentimentIntensityAnalyzer\n",
    "\n",
    "sid = SentimentIntensityAnalyzer()"
   ]
  },
  {
   "cell_type": "code",
   "execution_count": 0,
   "metadata": {
    "application/vnd.databricks.v1+cell": {
     "cellMetadata": {
      "byteLimit": 2048000,
      "rowLimit": 10000
     },
     "inputWidgets": {},
     "nuid": "dbea1c26-261d-44f3-9521-9c23face3eb2",
     "showTitle": false,
     "title": ""
    }
   },
   "outputs": [],
   "source": [
    "# Write a review as one continuous string (multiple sentences are ok)\n",
    "review = 'This is an overall good film that has great things to offer, but falls short in some other aspects as well. Despite the occasional delightful surprises in the cinematography executions, the overall bland plot fails to make this film a truly extraordinary one.'"
   ]
  },
  {
   "cell_type": "code",
   "execution_count": 0,
   "metadata": {
    "application/vnd.databricks.v1+cell": {
     "cellMetadata": {
      "byteLimit": 2048000,
      "rowLimit": 10000
     },
     "inputWidgets": {},
     "nuid": "9ccdc1e0-e93a-4278-a171-af9a9b8ed0f3",
     "showTitle": false,
     "title": ""
    }
   },
   "outputs": [
    {
     "name": "stdout",
     "output_type": "stream",
     "text": [
      "Out[8]: {'neg': 0.139, 'neu': 0.623, 'pos': 0.238, 'compound': 0.5487}"
     ]
    }
   ],
   "source": [
    "# Obtain the sid scores for your review\n",
    "sid.polarity_scores(review)"
   ]
  },
  {
   "cell_type": "code",
   "execution_count": 0,
   "metadata": {
    "application/vnd.databricks.v1+cell": {
     "cellMetadata": {
      "byteLimit": 2048000,
      "rowLimit": 10000
     },
     "inputWidgets": {},
     "nuid": "987e1c33-f0b5-4f95-88fa-2d33f41bbf73",
     "showTitle": false,
     "title": ""
    }
   },
   "outputs": [
    {
     "name": "stdout",
     "output_type": "stream",
     "text": [
      "Out[25]: 'neu'"
     ]
    }
   ],
   "source": [
    "max(sid.polarity_scores(review), key = sid.polarity_scores(review).get)"
   ]
  },
  {
   "cell_type": "markdown",
   "metadata": {
    "application/vnd.databricks.v1+cell": {
     "cellMetadata": {},
     "inputWidgets": {},
     "nuid": "20df3577-8f4b-4b1a-a824-ec2d7ad977ed",
     "showTitle": false,
     "title": ""
    }
   },
   "source": [
    "### CHALLENGE: Write a function that takes in a review and returns a score of \"Positive\", \"Negative\" or \"Neutral\""
   ]
  },
  {
   "cell_type": "code",
   "execution_count": 0,
   "metadata": {
    "application/vnd.databricks.v1+cell": {
     "cellMetadata": {
      "byteLimit": 2048000,
      "rowLimit": 10000
     },
     "inputWidgets": {},
     "nuid": "a0fb4e77-ad16-48df-97b1-54368f0478c6",
     "showTitle": false,
     "title": ""
    }
   },
   "outputs": [],
   "source": [
    "# def review_rating(string):\n",
    "#     sid = SentimentIntensityAnalyzer()\n",
    "#     scores_dict = sid.polarity_scores(string)\n",
    "#     scores_dict.pop('compound')\n",
    "    \n",
    "#     return max(scores_dict, key=scores_dict.get)"
   ]
  },
  {
   "cell_type": "code",
   "execution_count": 0,
   "metadata": {
    "application/vnd.databricks.v1+cell": {
     "cellMetadata": {
      "byteLimit": 2048000,
      "rowLimit": 10000
     },
     "inputWidgets": {},
     "nuid": "3537c815-3cce-485c-94f0-add7ddd0b49c",
     "showTitle": false,
     "title": ""
    }
   },
   "outputs": [],
   "source": [
    "def review_rating(string):\n",
    "    sid = SentimentIntensityAnalyzer()\n",
    "    scores_dict = sid.polarity_scores(string)\n",
    "    \n",
    "    if scores_dict['compound'] == 0:\n",
    "        return 'Neutral'\n",
    "    if scores_dict['compound'] < 0:\n",
    "        return 'Negative'\n",
    "    if scores_dict['compound'] > 0:\n",
    "        return 'Positive'"
   ]
  },
  {
   "cell_type": "code",
   "execution_count": 0,
   "metadata": {
    "application/vnd.databricks.v1+cell": {
     "cellMetadata": {
      "byteLimit": 2048000,
      "rowLimit": 10000
     },
     "inputWidgets": {},
     "nuid": "d2020aba-7074-4c4c-95e3-45cc12dcba5a",
     "showTitle": false,
     "title": ""
    }
   },
   "outputs": [
    {
     "name": "stdout",
     "output_type": "stream",
     "text": [
      "Out[27]: 'Positive'"
     ]
    }
   ],
   "source": [
    "# Test the function on your review above:\n",
    "review_rating(review)"
   ]
  },
  {
   "cell_type": "markdown",
   "metadata": {
    "application/vnd.databricks.v1+cell": {
     "cellMetadata": {},
     "inputWidgets": {},
     "nuid": "e71067f4-60fe-4e09-8b26-6485083641ad",
     "showTitle": false,
     "title": ""
    }
   },
   "source": [
    "## Great job!"
   ]
  }
 ],
 "metadata": {
  "application/vnd.databricks.v1+notebook": {
   "dashboards": [],
   "language": "python",
   "notebookMetadata": {
    "pythonIndentUnit": 4
   },
   "notebookName": "03-Sentiment-Analysis-Assessment",
   "notebookOrigID": 3520988577289766,
   "widgets": {}
  },
  "kernelspec": {
   "display_name": "Python 3",
   "language": "python",
   "name": "python3"
  },
  "language_info": {
   "codemirror_mode": {
    "name": "ipython",
    "version": 3
   },
   "file_extension": ".py",
   "mimetype": "text/x-python",
   "name": "python",
   "nbconvert_exporter": "python",
   "pygments_lexer": "ipython3",
   "version": "3.8.8"
  }
 },
 "nbformat": 4,
 "nbformat_minor": 1
}
